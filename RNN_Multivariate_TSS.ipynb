{
  "nbformat": 4,
  "nbformat_minor": 0,
  "metadata": {
    "colab": {
      "name": "RNN_Multivariate_TSS.ipynb",
      "provenance": [],
      "collapsed_sections": [],
      "authorship_tag": "ABX9TyPbC+trVok7EgqOGLOmFrKL",
      "include_colab_link": true
    },
    "kernelspec": {
      "name": "python3",
      "display_name": "Python 3"
    }
  },
  "cells": [
    {
      "cell_type": "markdown",
      "metadata": {
        "id": "view-in-github",
        "colab_type": "text"
      },
      "source": [
        "<a href=\"https://colab.research.google.com/github/xRAFPx/AAII/blob/master/RNN_Multivariate_TSS.ipynb\" target=\"_parent\"><img src=\"https://colab.research.google.com/assets/colab-badge.svg\" alt=\"Open In Colab\"/></a>"
      ]
    },
    {
      "cell_type": "code",
      "metadata": {
        "id": "h8KgkNq9kOMC",
        "colab_type": "code",
        "colab": {
          "base_uri": "https://localhost:8080/",
          "height": 121
        },
        "outputId": "a084324f-c39c-483f-f0ad-ab5cd2064aa1"
      },
      "source": [
        "from google.colab import drive\n",
        "drive.mount('/content/drive')"
      ],
      "execution_count": null,
      "outputs": [
        {
          "output_type": "stream",
          "text": [
            "Go to this URL in a browser: https://accounts.google.com/o/oauth2/auth?client_id=947318989803-6bn6qk8qdgf4n4g3pfee6491hc0brc4i.apps.googleusercontent.com&redirect_uri=urn%3aietf%3awg%3aoauth%3a2.0%3aoob&response_type=code&scope=email%20https%3a%2f%2fwww.googleapis.com%2fauth%2fdocs.test%20https%3a%2f%2fwww.googleapis.com%2fauth%2fdrive%20https%3a%2f%2fwww.googleapis.com%2fauth%2fdrive.photos.readonly%20https%3a%2f%2fwww.googleapis.com%2fauth%2fpeopleapi.readonly\n",
            "\n",
            "Enter your authorization code:\n",
            "··········\n",
            "Mounted at /content/drive\n"
          ],
          "name": "stdout"
        }
      ]
    },
    {
      "cell_type": "code",
      "metadata": {
        "trusted": true,
        "id": "Z5wWaBrPjQPC",
        "colab_type": "code",
        "colab": {
          "base_uri": "https://localhost:8080/",
          "height": 34
        },
        "outputId": "ff3a1221-4770-4d57-b403-2b2b842926d5"
      },
      "source": [
        "import requests\n",
        "import json\n",
        "import csv\n",
        "import string\n",
        "import io\n",
        "import pandas as pd\n",
        "from tempfile import NamedTemporaryFile\n",
        "import shutil\n",
        "from datetime import date\n",
        "import datetime\n",
        "import os.path\n",
        "from os import path\n",
        "import re\n",
        "import xlrd\n",
        "import math\n",
        "import tensorflow as tf\n",
        "import numpy as np\n",
        "from sklearn.preprocessing import MinMaxScaler\n",
        "import matplotlib.pyplot as plt\n",
        "from getpass import getpass\n",
        "from functools import reduce\n",
        "from keras.callbacks import ModelCheckpoint\n",
        "from sklearn.model_selection import TimeSeriesSplit, GridSearchCV, RandomizedSearchCV\n",
        "from sklearn.neural_network import MLPRegressor\n",
        "from sklearn.metrics import mean_squared_error\n",
        "from sklearn import svm\n",
        "from matplotlib import pyplot\n",
        "from pandas.plotting import autocorrelation_plot\n",
        "from tensorflow.keras.wrappers.scikit_learn import KerasClassifier"
      ],
      "execution_count": null,
      "outputs": [
        {
          "output_type": "stream",
          "text": [
            "Using TensorFlow backend.\n"
          ],
          "name": "stderr"
        }
      ]
    },
    {
      "cell_type": "markdown",
      "metadata": {
        "id": "Iz8EFgPCjQPF",
        "colab_type": "text"
      },
      "source": [
        "# Variáveis"
      ]
    },
    {
      "cell_type": "code",
      "metadata": {
        "trusted": true,
        "id": "5YgplhW8jQPF",
        "colab_type": "code",
        "colab": {}
      },
      "source": [
        "folder = '/content/drive/My Drive/Colab Notebooks/AII Project'\n",
        "gitFolder = '/content/AAII/Data'\n",
        "model_folder = folder + '/Model Output'\n",
        "bestFileRNN_Multi = model_folder + '/bestResultsRNN_Multi.csv'\n",
        "\n",
        "#Temperatura\n",
        "norte_weather_filepath = folder + '/weather_norte.csv'\n",
        "centro_weather_filepath = folder + '/weather_centro.csv'\n",
        "lvt_weather_filepath = folder + '/weather_lvt.csv'\n",
        "algarve_weather_filepath = folder + '/weather_algarve.csv'\n",
        "alentejo_weather_filepath = folder + '/weather_alentejo.csv'\n",
        "\n",
        "#Óbitos COVID-19\n",
        "acores_death_filepath = folder + '/acores_death.csv'\n",
        "madeira_death_filepath = folder + '/madeira_death.csv'\n",
        "alentejo_death_filepath = folder + '/alentejo_death.csv'\n",
        "algarve_death_filepath = folder + '/algarve_death.csv'\n",
        "lvt_death_filepath = folder + '/lvt_death.csv'\n",
        "centro_death_filepath = folder + '/centro_death.csv'\n",
        "norte_death_filepath = folder + '/norte_death.csv'\n",
        "\n",
        "#Casos Confirmados COVID-19\n",
        "acores_filepath = folder + '/acores.csv'\n",
        "madeira_filepath = folder + '/madeira.csv'\n",
        "alentejo_filepath = folder + '/alentejo.csv'\n",
        "algarve_filepath = folder + '/algarve.csv'\n",
        "lvt_filepath = folder + '/lvt.csv'\n",
        "centro_filepath = folder + '/centro.csv'\n",
        "norte_filepath = folder + '/norte.csv'"
      ],
      "execution_count": null,
      "outputs": []
    },
    {
      "cell_type": "code",
      "metadata": {
        "trusted": true,
        "id": "E-FsQwnTjQPI",
        "colab_type": "code",
        "colab": {
          "base_uri": "https://localhost:8080/",
          "height": 34
        },
        "outputId": "f5d6e0bb-a80c-425a-8508-286851ef750b"
      },
      "source": [
        "if path.exists(folder):\n",
        "  print(\"No directory error\")\n",
        "else:\n",
        "  #Create a new directory (a folder) in your Drive\n",
        "  os.mkdir(folder)\n",
        "  print(\"Directory created\")"
      ],
      "execution_count": null,
      "outputs": [
        {
          "output_type": "stream",
          "text": [
            "No directory error\n"
          ],
          "name": "stdout"
        }
      ]
    },
    {
      "cell_type": "code",
      "metadata": {
        "trusted": true,
        "id": "EypFWfb6jQPK",
        "colab_type": "code",
        "colab": {}
      },
      "source": [
        "def read_dataset(url):\n",
        "  df = pd.read_csv(url, parse_dates=[0], index_col=[0], infer_datetime_format=True)\n",
        "  return df.fillna(value=0)"
      ],
      "execution_count": null,
      "outputs": []
    },
    {
      "cell_type": "code",
      "metadata": {
        "trusted": true,
        "id": "Mo7sQBmojQPM",
        "colab_type": "code",
        "colab": {}
      },
      "source": [
        "df_norte_aux = read_dataset(norte_filepath)\n",
        "# pd.set_option('display.max_rows', df_norte.shape[0]+1)\n",
        "# print(df_norte)\n",
        "df_centro_aux = read_dataset(centro_filepath)\n",
        "df_lvt_aux = read_dataset(lvt_filepath)\n",
        "df_alentejo_aux = read_dataset(alentejo_filepath)\n",
        "df_algarve_aux = read_dataset(algarve_filepath)"
      ],
      "execution_count": null,
      "outputs": []
    },
    {
      "cell_type": "code",
      "metadata": {
        "trusted": true,
        "id": "uMc6CD-fjQPO",
        "colab_type": "code",
        "colab": {
          "base_uri": "https://localhost:8080/",
          "height": 34
        },
        "outputId": "32a9a9ff-deb2-4a2f-aed3-10c0d3e1a056"
      },
      "source": [
        "df_norte_aux.shape"
      ],
      "execution_count": null,
      "outputs": [
        {
          "output_type": "execute_result",
          "data": {
            "text/plain": [
              "(116, 1)"
            ]
          },
          "metadata": {
            "tags": []
          },
          "execution_count": 7
        }
      ]
    },
    {
      "cell_type": "code",
      "metadata": {
        "trusted": true,
        "id": "Y7rv-CXdjQPR",
        "colab_type": "code",
        "colab": {}
      },
      "source": [
        "df_alentejo_death = read_dataset(alentejo_death_filepath)\n",
        "df_algarve_death = read_dataset(algarve_death_filepath)\n",
        "df_lvt_death = read_dataset(lvt_death_filepath)\n",
        "df_centro_death = read_dataset(centro_death_filepath)\n",
        "df_norte_death = read_dataset(norte_death_filepath)"
      ],
      "execution_count": null,
      "outputs": []
    },
    {
      "cell_type": "code",
      "metadata": {
        "trusted": true,
        "id": "5xrBc-j7jQPT",
        "colab_type": "code",
        "colab": {}
      },
      "source": [
        "df_norte_weather = read_dataset(norte_weather_filepath)\n",
        "df_centro_weather = read_dataset(centro_weather_filepath)\n",
        "df_lvt_weather = read_dataset(lvt_weather_filepath)\n",
        "df_algarve_weather = read_dataset(algarve_weather_filepath)\n",
        "df_alentejo_weather = read_dataset(alentejo_weather_filepath)"
      ],
      "execution_count": null,
      "outputs": []
    },
    {
      "cell_type": "code",
      "metadata": {
        "trusted": true,
        "id": "AbqO79h_jQPV",
        "colab_type": "code",
        "colab": {}
      },
      "source": [
        "df_norte_aux[df_norte_aux<0]=0\n",
        "df_centro_aux[df_centro_aux<0]=0\n",
        "df_lvt_aux[df_lvt_aux<0]=0\n",
        "df_alentejo_aux[df_alentejo_aux<0]=0\n",
        "df_algarve_aux[df_algarve_aux<0]=0\n",
        "\n",
        "df_norte_death[df_norte_death<0]=0\n",
        "df_centro_death[df_centro_death<0]=0\n",
        "df_lvt_death[df_lvt_death<0]=0\n",
        "df_alentejo_death[df_alentejo_death<0]=0\n",
        "df_algarve_death[df_algarve_death<0]=0"
      ],
      "execution_count": null,
      "outputs": []
    },
    {
      "cell_type": "markdown",
      "metadata": {
        "id": "93HVj_sLypnV",
        "colab_type": "text"
      },
      "source": [
        "#Preparação das variáveis"
      ]
    },
    {
      "cell_type": "code",
      "metadata": {
        "trusted": true,
        "id": "O2BH_abnjQPY",
        "colab_type": "code",
        "colab": {}
      },
      "source": [
        "def create_predictor(df, df_aux):\n",
        "    df_predictor=df.copy()\n",
        "    meanMinData = dict(zip(df_aux.index, df_aux['mean_x'].round()))\n",
        "    meanMaxData = dict(zip(df_aux.index, df_aux['mean_y'].round()))\n",
        "    df_predictor[\"temp_max\"] = df.index.map(meanMaxData)\n",
        "    df_predictor[\"temp_min\"] = df.index.map(meanMinData)\n",
        "    df_predictor = df_predictor.fillna(method='ffill')\n",
        "    return df_predictor"
      ],
      "execution_count": null,
      "outputs": []
    },
    {
      "cell_type": "code",
      "metadata": {
        "trusted": true,
        "id": "w-LWyVGajQPd",
        "colab_type": "code",
        "colab": {}
      },
      "source": [
        "def data_normalization(df):\n",
        "  scaler = MinMaxScaler()\n",
        "  df = scaler.fit_transform(df)\n",
        "  return scaler, df"
      ],
      "execution_count": null,
      "outputs": []
    },
    {
      "cell_type": "code",
      "metadata": {
        "trusted": true,
        "id": "LJkU_cwqjQPj",
        "colab_type": "code",
        "colab": {}
      },
      "source": [
        "def build_multiSupervised(X, y, timesteps):\n",
        "    dataX = X\n",
        "    dataY = y\n",
        "    X_s, y_s = list(), list()\n",
        "    dataset_size = len(dataX)\n",
        "    for curr_pos in range(dataset_size):\n",
        "        input_index =  curr_pos + timesteps\n",
        "        label_index = input_index + 1\n",
        "        if label_index <= dataset_size:\n",
        "            X_s.append(dataX[curr_pos:input_index, :])\n",
        "            y_s.append(dataY[input_index:label_index])\n",
        "    return np.array(X_s).astype('float32'), np.array(y_s).astype('float32')"
      ],
      "execution_count": null,
      "outputs": []
    },
    {
      "cell_type": "code",
      "metadata": {
        "trusted": true,
        "id": "JLiGkS1YjQPb",
        "colab_type": "code",
        "colab": {}
      },
      "source": [
        "df_norte_predictor_aux = create_predictor(df_norte_death, df_norte_weather)\n",
        "df_centro_predictor_aux = create_predictor(df_centro_death, df_centro_weather)\n",
        "df_lvt_predictor_aux = create_predictor(df_lvt_death, df_lvt_weather)\n",
        "df_alentejo_predictor_aux = create_predictor(df_alentejo_death, df_alentejo_weather)\n",
        "df_algarve_predictor_aux = create_predictor(df_algarve_death, df_algarve_weather)"
      ],
      "execution_count": null,
      "outputs": []
    },
    {
      "cell_type": "code",
      "metadata": {
        "trusted": true,
        "id": "_ZneN_RnjQPf",
        "colab_type": "code",
        "colab": {}
      },
      "source": [
        "scaler_norte, df_norte_aux = data_normalization(df_norte_aux)\n",
        "scaler_centro, df_centro_aux = data_normalization(df_centro_aux)\n",
        "scaler_lvt, df_lvt_aux = data_normalization(df_lvt_aux)\n",
        "scaler_alentejo, df_alentejo_aux = data_normalization(df_alentejo_aux)\n",
        "scaler_algarve, df_algarve_aux = data_normalization(df_algarve_aux)"
      ],
      "execution_count": null,
      "outputs": []
    },
    {
      "cell_type": "code",
      "metadata": {
        "trusted": true,
        "id": "VpZwNvKbjQPh",
        "colab_type": "code",
        "colab": {}
      },
      "source": [
        "scaler_norte_predictor, df_norte_predictor_aux = data_normalization(df_norte_predictor_aux)\n",
        "scaler_centro_predictor, df_centro_predictor_aux = data_normalization(df_centro_predictor_aux)\n",
        "scaler_lvt_predictor, df_lvt_predictor_aux = data_normalization(df_lvt_predictor_aux)\n",
        "scaler_alentejo_predictor, df_alentejo_predictor_aux = data_normalization(df_alentejo_predictor_aux)\n",
        "scaler_algarve_predictor, df_algarve_predictor_aux = data_normalization(df_algarve_predictor_aux)"
      ],
      "execution_count": null,
      "outputs": []
    },
    {
      "cell_type": "code",
      "metadata": {
        "trusted": true,
        "id": "T6G7GNz_jQPk",
        "colab_type": "code",
        "colab": {}
      },
      "source": [
        "timesteps = 4"
      ],
      "execution_count": null,
      "outputs": []
    },
    {
      "cell_type": "code",
      "metadata": {
        "trusted": true,
        "id": "MmYH3ZtAjQPm",
        "colab_type": "code",
        "colab": {}
      },
      "source": [
        "df_norte_predictor, df_norte = build_multiSupervised(df_norte_predictor_aux, df_norte_aux, timesteps)"
      ],
      "execution_count": null,
      "outputs": []
    },
    {
      "cell_type": "code",
      "metadata": {
        "trusted": true,
        "id": "-wY4eEH8jQPo",
        "colab_type": "code",
        "colab": {}
      },
      "source": [
        "df_centro_predictor, df_centro = build_multiSupervised(df_centro_predictor_aux, df_centro_aux, timesteps)"
      ],
      "execution_count": null,
      "outputs": []
    },
    {
      "cell_type": "code",
      "metadata": {
        "trusted": true,
        "id": "MWMaus4mjQPq",
        "colab_type": "code",
        "colab": {}
      },
      "source": [
        "df_algarve_predictor, df_algarve = build_multiSupervised(df_algarve_predictor_aux, df_algarve_aux, timesteps)"
      ],
      "execution_count": null,
      "outputs": []
    },
    {
      "cell_type": "code",
      "metadata": {
        "trusted": true,
        "id": "G2hwgVw6jQPr",
        "colab_type": "code",
        "colab": {}
      },
      "source": [
        "df_alentejo_predictor, df_alentejo = build_multiSupervised(df_alentejo_predictor_aux, df_alentejo_aux, timesteps)"
      ],
      "execution_count": null,
      "outputs": []
    },
    {
      "cell_type": "code",
      "metadata": {
        "trusted": true,
        "id": "5nGnAfHLjQPt",
        "colab_type": "code",
        "colab": {}
      },
      "source": [
        "df_lvt_predictor, df_lvt = build_multiSupervised(df_lvt_predictor_aux, df_lvt_aux, timesteps)"
      ],
      "execution_count": null,
      "outputs": []
    },
    {
      "cell_type": "code",
      "metadata": {
        "trusted": true,
        "id": "GCzbB1k1jQPv",
        "colab_type": "code",
        "colab": {
          "base_uri": "https://localhost:8080/",
          "height": 34
        },
        "outputId": "35bed850-ab77-4b7c-b2ef-5fef46de4e92"
      },
      "source": [
        "df_norte_predictor.shape"
      ],
      "execution_count": null,
      "outputs": [
        {
          "output_type": "execute_result",
          "data": {
            "text/plain": [
              "(112, 4, 3)"
            ]
          },
          "metadata": {
            "tags": []
          },
          "execution_count": 23
        }
      ]
    },
    {
      "cell_type": "code",
      "metadata": {
        "trusted": true,
        "id": "P3yvi-FsjQPx",
        "colab_type": "code",
        "colab": {
          "base_uri": "https://localhost:8080/",
          "height": 34
        },
        "outputId": "eb0e6009-6483-481c-9d87-b06c14a7b5fe"
      },
      "source": [
        "df_norte.shape"
      ],
      "execution_count": null,
      "outputs": [
        {
          "output_type": "execute_result",
          "data": {
            "text/plain": [
              "(112, 1, 1)"
            ]
          },
          "metadata": {
            "tags": []
          },
          "execution_count": 24
        }
      ]
    },
    {
      "cell_type": "code",
      "metadata": {
        "trusted": true,
        "id": "TzYaQ11yjQPz",
        "colab_type": "code",
        "colab": {}
      },
      "source": [
        "valid_test_percent = 0.1\n",
        "df_region_valid_test_size = int(np.round(valid_test_percent * df_norte.shape[0]))\n",
        "df_region_train_size = df_norte.shape[0] - df_region_valid_test_size*2"
      ],
      "execution_count": null,
      "outputs": []
    },
    {
      "cell_type": "code",
      "metadata": {
        "trusted": true,
        "id": "BfnDtTyCjQP1",
        "colab_type": "code",
        "colab": {
          "base_uri": "https://localhost:8080/",
          "height": 34
        },
        "outputId": "3049840a-b51a-4e7b-9300-db677ebc6399"
      },
      "source": [
        "df_region_valid_test_size"
      ],
      "execution_count": null,
      "outputs": [
        {
          "output_type": "execute_result",
          "data": {
            "text/plain": [
              "11"
            ]
          },
          "metadata": {
            "tags": []
          },
          "execution_count": 26
        }
      ]
    },
    {
      "cell_type": "code",
      "metadata": {
        "trusted": true,
        "id": "DlJP5h-3jQP3",
        "colab_type": "code",
        "colab": {
          "base_uri": "https://localhost:8080/",
          "height": 34
        },
        "outputId": "0210ef7c-c489-4390-bf93-04f1178c0c0e"
      },
      "source": [
        "df_region_train_size"
      ],
      "execution_count": null,
      "outputs": [
        {
          "output_type": "execute_result",
          "data": {
            "text/plain": [
              "90"
            ]
          },
          "metadata": {
            "tags": []
          },
          "execution_count": 27
        }
      ]
    },
    {
      "cell_type": "code",
      "metadata": {
        "_uuid": "d629ff2d2480ee46fbb7e2d37f6b5fab8052498a",
        "_cell_guid": "79c7e3d0-c299-4dcb-8224-4455121ee9b0",
        "trusted": true,
        "id": "C6BgAZMFjQP6",
        "colab_type": "code",
        "colab": {}
      },
      "source": [
        "#TRAIN\n",
        "X_train_norte = df_norte_predictor[:df_region_train_size]\n",
        "y_train_norte = df_norte[:df_region_train_size]\n",
        "\n",
        "X_train_centro = df_centro_predictor[:df_region_train_size]\n",
        "y_train_centro = df_centro[:df_region_train_size]\n",
        "\n",
        "X_train_lvt = df_lvt_predictor[:df_region_train_size]\n",
        "y_train_lvt = df_lvt[:df_region_train_size]\n",
        "\n",
        "X_train_algarve = df_algarve_predictor[:df_region_train_size]\n",
        "y_train_algarve = df_algarve[:df_region_train_size]\n",
        "\n",
        "X_train_alentejo = df_alentejo_predictor[:df_region_train_size]\n",
        "y_train_alentejo = df_alentejo[:df_region_train_size]\n",
        "\n",
        "\n",
        "#TEST\n",
        "X_test_norte = df_norte_predictor[df_region_train_size + df_region_valid_test_size :]\n",
        "y_test_norte = df_norte[df_region_train_size + df_region_valid_test_size :]\n",
        "\n",
        "X_test_centro = df_centro_predictor[df_region_train_size + df_region_valid_test_size :]\n",
        "y_test_centro = df_centro[df_region_train_size + df_region_valid_test_size :]\n",
        "\n",
        "X_test_lvt = df_lvt_predictor[df_region_train_size + df_region_valid_test_size :]\n",
        "y_test_lvt = df_lvt[df_region_train_size + df_region_valid_test_size :]\n",
        "\n",
        "X_test_algarve = df_algarve_predictor[df_region_train_size + df_region_valid_test_size :]\n",
        "y_test_algarve = df_algarve[df_region_train_size + df_region_valid_test_size :]\n",
        "\n",
        "X_test_alentejo = df_alentejo_predictor[df_region_train_size + df_region_valid_test_size :]\n",
        "y_test_alentejo = df_alentejo[df_region_train_size + df_region_valid_test_size :]\n",
        "\n",
        "\n",
        "#VALIDATION\n",
        "X_val_norte = df_norte_predictor[df_region_train_size:df_region_train_size + df_region_valid_test_size]\n",
        "y_val_norte = df_norte[df_region_train_size:df_region_train_size + df_region_valid_test_size]\n",
        "\n",
        "X_val_centro = df_centro_predictor[df_region_train_size:df_region_train_size + df_region_valid_test_size]\n",
        "y_val_centro = df_centro[df_region_train_size:df_region_train_size + df_region_valid_test_size]\n",
        "\n",
        "X_val_lvt = df_lvt_predictor[df_region_train_size:df_region_train_size + df_region_valid_test_size]\n",
        "y_val_lvt = df_lvt[df_region_train_size:df_region_train_size + df_region_valid_test_size]\n",
        "\n",
        "X_val_algarve = df_algarve_predictor[df_region_train_size:df_region_train_size + df_region_valid_test_size]\n",
        "y_val_algarve = df_algarve[df_region_train_size:df_region_train_size + df_region_valid_test_size]\n",
        "\n",
        "X_val_alentejo = df_alentejo_predictor[df_region_train_size:df_region_train_size + df_region_valid_test_size]\n",
        "y_val_alentejo = df_alentejo[df_region_train_size:df_region_train_size + df_region_valid_test_size]\n",
        "\n",
        "\n",
        "#TRAIN+VALIDATION\n",
        "X_train_val_norte = df_norte_predictor[:df_region_train_size + df_region_valid_test_size]\n",
        "y_train_val_norte = df_norte[:df_region_train_size + df_region_valid_test_size]\n",
        "\n",
        "X_train_val_centro = df_centro_predictor[:df_region_train_size + df_region_valid_test_size]\n",
        "y_train_val_centro = df_centro[:df_region_train_size + df_region_valid_test_size]\n",
        "\n",
        "X_train_val_lvt = df_lvt_predictor[:df_region_train_size + df_region_valid_test_size]\n",
        "y_train_val_lvt = df_lvt[:df_region_train_size + df_region_valid_test_size]\n",
        "\n",
        "X_train_val_algarve = df_algarve_predictor[:df_region_train_size + df_region_valid_test_size]\n",
        "y_train_val_algarve = df_algarve[:df_region_train_size + df_region_valid_test_size]\n",
        "\n",
        "X_train_val_alentejo = df_alentejo_predictor[:df_region_train_size + df_region_valid_test_size]\n",
        "y_train_val_alentejo = df_alentejo[:df_region_train_size + df_region_valid_test_size]"
      ],
      "execution_count": null,
      "outputs": []
    },
    {
      "cell_type": "code",
      "metadata": {
        "trusted": true,
        "id": "j84S8yYzjQP7",
        "colab_type": "code",
        "colab": {
          "base_uri": "https://localhost:8080/",
          "height": 34
        },
        "outputId": "a68b38c6-2bd3-4c37-9e24-64de91ab5130"
      },
      "source": [
        "X_train_norte.shape"
      ],
      "execution_count": null,
      "outputs": [
        {
          "output_type": "execute_result",
          "data": {
            "text/plain": [
              "(90, 4, 3)"
            ]
          },
          "metadata": {
            "tags": []
          },
          "execution_count": 29
        }
      ]
    },
    {
      "cell_type": "code",
      "metadata": {
        "trusted": true,
        "id": "MM4CPZ_RjQP9",
        "colab_type": "code",
        "colab": {
          "base_uri": "https://localhost:8080/",
          "height": 34
        },
        "outputId": "00480e86-bf25-4057-f7bc-93b2f4f8b2cf"
      },
      "source": [
        "y_train_norte.shape"
      ],
      "execution_count": null,
      "outputs": [
        {
          "output_type": "execute_result",
          "data": {
            "text/plain": [
              "(90, 1, 1)"
            ]
          },
          "metadata": {
            "tags": []
          },
          "execution_count": 30
        }
      ]
    },
    {
      "cell_type": "code",
      "metadata": {
        "trusted": true,
        "id": "HdRkKKY6jQQA",
        "colab_type": "code",
        "colab": {
          "base_uri": "https://localhost:8080/",
          "height": 34
        },
        "outputId": "485663d5-8b41-4fed-f0fd-b9c2bd18e1f8"
      },
      "source": [
        "X_train_val_norte.shape"
      ],
      "execution_count": null,
      "outputs": [
        {
          "output_type": "execute_result",
          "data": {
            "text/plain": [
              "(101, 4, 3)"
            ]
          },
          "metadata": {
            "tags": []
          },
          "execution_count": 31
        }
      ]
    },
    {
      "cell_type": "code",
      "metadata": {
        "trusted": true,
        "id": "6DM0rFRSjQQD",
        "colab_type": "code",
        "colab": {}
      },
      "source": [
        "y_test_norte_re = y_test_norte.reshape(y_test_norte.shape[0],y_test_norte.shape[1])\n",
        "y_train_val_norte_re = y_train_val_norte.reshape(y_train_val_norte.shape[0],y_train_val_norte.shape[1])"
      ],
      "execution_count": null,
      "outputs": []
    },
    {
      "cell_type": "code",
      "metadata": {
        "trusted": true,
        "id": "L2VnP977jQQE",
        "colab_type": "code",
        "colab": {}
      },
      "source": [
        "y_test_centro_re = y_test_centro.reshape(y_test_centro.shape[0],y_test_centro.shape[1])\n",
        "y_train_val_centro_re = y_train_val_centro.reshape(y_train_val_centro.shape[0],y_train_val_centro.shape[1])"
      ],
      "execution_count": null,
      "outputs": []
    },
    {
      "cell_type": "code",
      "metadata": {
        "trusted": true,
        "id": "rdW_WC59jQQG",
        "colab_type": "code",
        "colab": {}
      },
      "source": [
        "y_test_lvt_re = y_test_lvt.reshape(y_test_lvt.shape[0],y_test_lvt.shape[1])\n",
        "y_train_val_lvt_re = y_train_val_lvt.reshape(y_train_val_lvt.shape[0],y_train_val_lvt.shape[1])"
      ],
      "execution_count": null,
      "outputs": []
    },
    {
      "cell_type": "code",
      "metadata": {
        "trusted": true,
        "id": "YLrdIz5QjQQI",
        "colab_type": "code",
        "colab": {}
      },
      "source": [
        "y_test_alentejo_re = y_test_alentejo.reshape(y_test_alentejo.shape[0],y_test_alentejo.shape[1])\n",
        "y_train_val_alentejo_re = y_train_val_alentejo.reshape(y_train_val_alentejo.shape[0],y_train_val_alentejo.shape[1])"
      ],
      "execution_count": null,
      "outputs": []
    },
    {
      "cell_type": "code",
      "metadata": {
        "trusted": true,
        "id": "GqhTxmELjQQJ",
        "colab_type": "code",
        "colab": {}
      },
      "source": [
        "y_test_algarve_re = y_test_algarve.reshape(y_test_algarve.shape[0],y_test_algarve.shape[1])\n",
        "y_train_val_algarve_re = y_train_val_algarve.reshape(y_train_val_algarve.shape[0],y_train_val_algarve.shape[1])"
      ],
      "execution_count": null,
      "outputs": []
    },
    {
      "cell_type": "markdown",
      "metadata": {
        "id": "9wl4RWz9yvNw",
        "colab_type": "text"
      },
      "source": [
        "# RNN"
      ]
    },
    {
      "cell_type": "code",
      "metadata": {
        "trusted": true,
        "id": "6KrKwaLyjQQL",
        "colab_type": "code",
        "colab": {}
      },
      "source": [
        "def rmse(y_true, y_pred):\n",
        "    #RMSE = tf.sqrt(tf.losses.mean_squared_error(y_pred, y_true))\n",
        "    #RMSE = tf.sqrt(tf.reduce_mean(tf.square(tf.subtract(y_pred, y_true))))\n",
        "    return tf.keras.backend.sqrt(tf.keras.backend.mean(tf.keras.backend.square(y_pred - y_true)))"
      ],
      "execution_count": null,
      "outputs": []
    },
    {
      "cell_type": "code",
      "metadata": {
        "id": "a8eoHt3MBHNI",
        "colab_type": "code",
        "colab": {}
      },
      "source": [
        "def save_RNNGridSearch(export_file, best_file, gs_clf, city):\n",
        "\twith open(export_file, 'w') as outfile:\n",
        "\t\tcsvwriter = csv.writer(outfile, delimiter=',')\n",
        "\t\t#Create the header using the parameter names \n",
        "\t\t\n",
        "\t\theader = [\"mean\",\"std\"]\n",
        "\t\tparam_names = [param for param in gs_clf.param_distributions.keys()]\n",
        "\t\theader.extend(param_names)\n",
        "\t\tcsvwriter.writerow(header)\n",
        "\t\n",
        "\t\tmeans = gs_clf.cv_results_['mean_test_score']\n",
        "\t\tstds = gs_clf.cv_results_['std_test_score']\n",
        "\t\tparams = gs_clf.cv_results_['params']\n",
        "\n",
        "\t\tfor mean, stdev, param in zip(means, stds, params):\n",
        "\t\t\trow = [mean,stdev]\n",
        "\t\t\t# Get the list of parameter settings and add to row\n",
        "\t\t\tparams = [str(p) for p in param.values()]\n",
        "\t\t\trow.extend(params)\n",
        "\t\t\t\n",
        "\t\t\tcsvwriter.writerow(row)\n",
        "\t \n",
        "\twrite_header=1 \n",
        "\tif path.exists(best_file):\n",
        "\t\twrite_header = 0\n",
        "\n",
        "\twith open(best_file, 'a') as bestfile:\n",
        "\t\tcsvwriter = csv.writer(bestfile, delimiter=',')\t\n",
        "\t\tif write_header == 0:\n",
        "\t\t\tpass\n",
        "\t\telse:\n",
        "\t\t\theader = [\"city\",\"score\"]\n",
        "\t\t\tparam_names = [param for param in gs_clf.param_distributions.keys()]\n",
        "\t\t\theader.extend(param_names)\n",
        "\t\t\tcsvwriter.writerow(header)\n",
        "\t\n",
        "\t\tmean = gs_clf.best_score_\n",
        "\t\tparams = gs_clf.best_params_\n",
        "\n",
        "\t\trow = [city, mean]\n",
        "\t\t# Get the list of parameter settings and add to row\n",
        "\t\tparams = [str(p) for p in params.values()]\n",
        "\t\trow.extend(params)\n",
        "\t\t\n",
        "\t\tcsvwriter.writerow(row)"
      ],
      "execution_count": null,
      "outputs": []
    },
    {
      "cell_type": "code",
      "metadata": {
        "id": "XcZ7XlpHHKh1",
        "colab_type": "code",
        "colab": {}
      },
      "source": [
        "def RNN_Model(model_type, layers_size, num_layers, dropout_rate, timesteps, features, optimizer, learn_rate):\n",
        "  model = tf.keras.models.Sequential() \n",
        "  for i in range(num_layers):\n",
        "    if model_type == 'RNN':\n",
        "      if i == 0 and num_layers > 1:\n",
        "        model.add(tf.keras.layers.SimpleRNN(int(layers_size), return_sequences=True, input_shape=(timesteps, features)))\n",
        "        if dropout_rate > 0: model.add(tf.keras.layers.Dropout(dropout_rate))  \n",
        "      elif i == 0 and num_layers == 1:\n",
        "        model.add(tf.keras.layers.SimpleRNN(int(layers_size), input_shape=(timesteps, features)))\n",
        "      elif i == num_layers-1:\n",
        "        model.add(tf.keras.layers.SimpleRNN(int(layers_size*i)))\n",
        "      else:\n",
        "        model.add(tf.keras.layers.SimpleRNN(int(layers_size*i), return_sequences=True))\n",
        "        if dropout_rate > 0: model.add(tf.keras.layers.Dropout(dropout_rate))  \n",
        "    elif model_type == 'LSTM':\n",
        "      if i == 0 and num_layers > 1:\n",
        "        model.add(tf.keras.layers.LSTM(int(layers_size), return_sequences=True, input_shape=(timesteps, features)))\n",
        "        if dropout_rate > 0: model.add(tf.keras.layers.Dropout(dropout_rate))  \n",
        "      elif i == 0 and num_layers == 1:\n",
        "        model.add(tf.keras.layers.LSTM(int(layers_size), input_shape=(timesteps, features)))\n",
        "      elif i == num_layers-1:\n",
        "        model.add(tf.keras.layers.LSTM(int(layers_size*i)))\n",
        "      else:\n",
        "        model.add(tf.keras.layers.LSTM(int(layers_size*i), return_sequences=True))\n",
        "        if dropout_rate > 0: model.add(tf.keras.layers.Dropout(dropout_rate))  \n",
        "    else:\n",
        "      if i == 0 and num_layers > 1:\n",
        "        model.add(tf.keras.layers.GRU(int(layers_size), return_sequences=True, input_shape=(timesteps, features)))\n",
        "        if dropout_rate > 0: model.add(tf.keras.layers.Dropout(dropout_rate))  \n",
        "      elif i == 0 and num_layers == 1:\n",
        "        model.add(tf.keras.layers.GRU(int(layers_size), input_shape=(timesteps, features)))\n",
        "      elif i == num_layers-1:\n",
        "        model.add(tf.keras.layers.GRU(int(layers_size*i)))\n",
        "      else:\n",
        "        model.add(tf.keras.layers.GRU(int(layers_size*i), return_sequences=True))\n",
        "        if dropout_rate > 0: model.add(tf.keras.layers.Dropout(dropout_rate))   \n",
        "  model.add(tf.keras.layers.Dense(layers_size, activation=\"linear\"))  \n",
        "  model.add(tf.keras.layers.Dense(1, activation=\"sigmoid\"))  \n",
        "  # model.summary()\n",
        "  if optimizer == 'sgd_momentum':\n",
        "    model.compile(optimizer = tf.keras.optimizers.SGD(lr=learn_rate, momentum=0.7), loss = rmse, metrics = ['mae', 'accuracy', rmse])\n",
        "  elif optimizer == 'adam':\n",
        "    model.compile(optimizer = tf.keras.optimizers.Adam(lr=learn_rate), loss = rmse, metrics = ['mae', 'accuracy', rmse])\n",
        "  else:\n",
        "    model.compile(optimizer = tf.keras.optimizers.RMSprop(lr=learn_rate), loss = rmse, metrics = ['mae', 'accuracy', rmse])\n",
        "  \n",
        "  return model\n"
      ],
      "execution_count": null,
      "outputs": []
    },
    {
      "cell_type": "code",
      "metadata": {
        "id": "Qwh0Y04FqgGG",
        "colab_type": "code",
        "colab": {}
      },
      "source": [
        "def RNN_model_search(X, Y, X_test, y_test, scaler, city):\n",
        "\n",
        "  export_file = model_folder + '/MultiRNN' + city + '.csv'\n",
        "  #call the model used in the cross validation\n",
        "  model = KerasClassifier(build_fn=RNN_Model, verbose=1, timesteps = X.shape[1], features = X.shape[2])\n",
        "\n",
        "  #time series split for nested cross validation\n",
        "  tscv = TimeSeriesSplit(max_train_size=None, n_splits=5)\n",
        "\n",
        "  # define the grid search parameters\n",
        "  opt_pars = {\n",
        "            \"layers_size\":[5, 10, 20, 100, 150],\n",
        "            \"num_layers\": [1, 2, 3, 4, 5],\n",
        "            \"optimizer\": [ \"adam\", \"rmsprop\", \"sgd_momentum\"],\n",
        "            \"learn_rate\": [0.01, 0.001, 0.0001],\n",
        "            \"dropout_rate\": [0.2, 0.5],\n",
        "            \"epochs\": [1000, 10000, 100000],\n",
        "            \"batch_size\": [8, 16, 32],\n",
        "            \"model_type\": [\"RNN\", \"LSTM\", \"GRU\"]\n",
        "            }\n",
        "\n",
        "  grid = RandomizedSearchCV(estimator=model, param_distributions=opt_pars, n_jobs=1, cv=tscv, error_score=0.0, scoring = \"neg_mean_squared_error\", n_iter=20)\n",
        "  grid_result = grid.fit(X, Y, verbose=0)\n",
        "\n",
        "  #Resumo dos resultados\n",
        "  print(\"Best: %f using %s\" % (grid_result.best_score_, grid_result.best_params_))\n",
        "\n",
        "  #Guardar os resultados\n",
        "  save_RNNGridSearch(export_file, best_fileRNN, grid_result, city)\n",
        "\n",
        "  #Previsão\n",
        "  prediction = grid_result.predict(X_test)\n",
        "  print(\"Prediction:\", prediction)\n",
        "  # scaled_prediction = prediction.reshape(1, -1)\n",
        "  # scaled_prediction = scaler.inverse_transform(scaled_prediction)\n",
        "  # scaled_realValue = y_test.reshape(1, -1)\n",
        "  # scaled_realValue = scaler.inverse_transform(scaled_realValue)\n",
        "  # for p, r in zip(scaled_prediction, scaled_realValue):\n",
        "  #   for i in range(len(p)):\n",
        "  #     print(\"Prediction:\", p[i], \"\\tReal Value:\", r[i])\n",
        "  score_test = mean_squared_error(y_test, prediction)\n",
        "  print(\"Test Score:\", score_test)"
      ],
      "execution_count": null,
      "outputs": []
    },
    {
      "cell_type": "code",
      "metadata": {
        "id": "9WnVCoFs744p",
        "colab_type": "code",
        "colab": {}
      },
      "source": [
        "import warnings\n",
        "warnings.filterwarnings(\"ignore\")"
      ],
      "execution_count": null,
      "outputs": []
    },
    {
      "cell_type": "code",
      "metadata": {
        "id": "Sufwy1ZuRJAb",
        "colab_type": "code",
        "colab": {}
      },
      "source": [
        "grid_search_RNN(X_train_val_norte, y_train_val_norte, X_test_norte, y_test_norte, scaler_norte, \"Norte\")"
      ],
      "execution_count": null,
      "outputs": []
    },
    {
      "cell_type": "code",
      "metadata": {
        "id": "-zB2QGhWjz2h",
        "colab_type": "code",
        "colab": {}
      },
      "source": [
        "grid_search_RNN(X_train_val_centro, y_train_val_centro, X_test_centro, y_test_centro, scaler_centro, \"Centro\")"
      ],
      "execution_count": null,
      "outputs": []
    },
    {
      "cell_type": "code",
      "metadata": {
        "id": "FtS5tKAQrk0k",
        "colab_type": "code",
        "colab": {}
      },
      "source": [
        "grid_search_RNN(X_train_val_lvt, y_train_val_lvt, X_test_lvt, y_test_lvt, scaler_lvt, \"LVT\")"
      ],
      "execution_count": null,
      "outputs": []
    },
    {
      "cell_type": "code",
      "metadata": {
        "id": "_aF2Z3Birqno",
        "colab_type": "code",
        "colab": {}
      },
      "source": [
        "grid_search_RNN(X_train_val_alentejo, y_train_val_alentejo, X_test_alentejo, y_test_alentejo, scaler_alentejo, \"Alentejo\")"
      ],
      "execution_count": null,
      "outputs": []
    },
    {
      "cell_type": "code",
      "metadata": {
        "id": "Ysjkr_tyrvyD",
        "colab_type": "code",
        "colab": {}
      },
      "source": [
        "grid_search_RNN(X_train_val_algarve, y_train_val_algarve, X_test_algarve, y_test_algarve, scaler_algarve, \"Algarve\")"
      ],
      "execution_count": null,
      "outputs": []
    }
  ]
}