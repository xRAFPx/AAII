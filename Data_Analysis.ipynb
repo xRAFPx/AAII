{
  "nbformat": 4,
  "nbformat_minor": 0,
  "metadata": {
    "colab": {
      "name": "Test_AAII.ipynb",
      "provenance": [],
      "collapsed_sections": [],
      "mount_file_id": "1kTjSp5Vgh5MXZExZFj8XK-dsy-Cpb2Xd",
      "authorship_tag": "ABX9TyPd6C5SUeKvqF8pVUQ6JTiu",
      "include_colab_link": true
    },
    "kernelspec": {
      "name": "python3",
      "display_name": "Python 3"
    },
    "accelerator": "GPU"
  },
  "cells": [
    {
      "cell_type": "markdown",
      "metadata": {
        "id": "view-in-github",
        "colab_type": "text"
      },
      "source": [
        "<a href=\"https://colab.research.google.com/github/xRAFPx/AAII/blob/master/Data_Analysis.ipynb\" target=\"_parent\"><img src=\"https://colab.research.google.com/assets/colab-badge.svg\" alt=\"Open In Colab\"/></a>"
      ]
    },
    {
      "cell_type": "code",
      "metadata": {
        "id": "5-eNfQdVTcm1",
        "colab_type": "code",
        "outputId": "b91fdbf6-02ad-4a27-a41a-a3edb2350d60",
        "colab": {
          "base_uri": "https://localhost:8080/",
          "height": 34
        }
      },
      "source": [
        "from google.colab import drive\n",
        "drive.mount('/content/drive')"
      ],
      "execution_count": 29,
      "outputs": [
        {
          "output_type": "stream",
          "text": [
            "Drive already mounted at /content/drive; to attempt to forcibly remount, call drive.mount(\"/content/drive\", force_remount=True).\n"
          ],
          "name": "stdout"
        }
      ]
    },
    {
      "cell_type": "code",
      "metadata": {
        "id": "NPYGLCcsVMha",
        "colab_type": "code",
        "colab": {}
      },
      "source": [
        "from google.colab import auth\n",
        "auth.authenticate_user()\n",
        "from googleapiclient.discovery import build\n",
        "drive_service = build('drive', 'v3')"
      ],
      "execution_count": 0,
      "outputs": []
    },
    {
      "cell_type": "code",
      "metadata": {
        "id": "HDlC4YO2S_fI",
        "colab_type": "code",
        "colab": {}
      },
      "source": [
        "import requests\n",
        "import json\n",
        "import csv\n",
        "import string\n",
        "import io\n",
        "import pandas as pd\n",
        "from tempfile import NamedTemporaryFile\n",
        "import shutil\n",
        "from datetime import date\n",
        "import datetime\n",
        "import os.path\n",
        "from os import path"
      ],
      "execution_count": 0,
      "outputs": []
    },
    {
      "cell_type": "code",
      "metadata": {
        "id": "A-_Kztm1TEP7",
        "colab_type": "code",
        "colab": {}
      },
      "source": [
        "def countDiffDates(lastDay, cityCSV, lastData):\n",
        "\n",
        "    #print(type(today))\n",
        "\n",
        "    cw = open(cityCSV, 'r')\n",
        "    listCity = list(cw)\n",
        "    dateList = list()\n",
        "    for row in listCity:\n",
        "        date = row.split(',')[0]\n",
        "        dateList.append(date)\n",
        "    cw.close()  \n",
        "\n",
        "    date_objectNew = datetime.datetime.strptime(lastDay, '%Y-%m-%d').date()\n",
        "    date_object = datetime.datetime.strptime(dateList[-1], '%Y-%m-%d').date()\n",
        "\n",
        "    diff = date_objectNew - date_object\n",
        "    diffDays = diff.days\n",
        "    print(\"Days Missing:\", diffDays)\n",
        "    if diffDays != 0:\n",
        "        res = lastData[-diffDays:]\n",
        "        print(res)\n",
        "        # # Open file in append mode\n",
        "        # with open(cityCSV, 'a', newline='') as write_obj:\n",
        "        #     # Create a writer object from csv module\n",
        "        #     csv_writer = csv.writer(write_obj, dialect='excel', delimiter=',', quoting=csv.QUOTE_NONE, quotechar='', escapechar=' ')\n",
        "        #     # Add contents of list as last row in the csv file\n",
        "        #     csv_writer.writerow(res)\n",
        "        \n",
        "        f = open(cityCSV, 'a', newline='')\n",
        "        for x in res:\n",
        "          f.write(x) #Give your csv text here.\n",
        "          ## Python will convert \\n to os.linesep\n",
        "        f.close()\n",
        "        print(res)\n",
        "    else:\n",
        "      print(\"Data is Updated\")"
      ],
      "execution_count": 0,
      "outputs": []
    },
    {
      "cell_type": "code",
      "metadata": {
        "id": "v5sKBtywTHNx",
        "colab_type": "code",
        "colab": {}
      },
      "source": [
        "def jprint(obj):\n",
        "    # create a formatted string of the Python JSON object\n",
        "    text = json.dumps(obj, sort_keys=True, indent=4)\n",
        "    print(text)"
      ],
      "execution_count": 0,
      "outputs": []
    },
    {
      "cell_type": "code",
      "metadata": {
        "id": "8VOIsXbtTJlj",
        "colab_type": "code",
        "colab": {}
      },
      "source": [
        "# response = requests.get(\"https://api.ipma.pt/open-data/distrits-islands.json\")\n",
        "\n",
        "# print(response.status_code)\n",
        "# jprint(response.json())"
      ],
      "execution_count": 0,
      "outputs": []
    },
    {
      "cell_type": "code",
      "metadata": {
        "id": "DjQ5RxSoTOL6",
        "colab_type": "code",
        "colab": {}
      },
      "source": [
        "def getDico():\n",
        "  response = requests.get(\"https://api.ipma.pt/open-data/distrits-islands.json\")\n",
        "  local = ['Porto', 'Lisboa', 'Faro', 'Evora', 'Coimbra']\n",
        "  dico = list()\n",
        "\n",
        "  for x in response.json()['data']:\n",
        "      for l in local:\n",
        "          if x['local'] == l:\n",
        "              dico.append([l.lower(),\"{0:0=2d}\".format(int(x['idDistrito'])) + str(\"{0:0=2d}\".format(int(x['idConcelho'])))])\n",
        "  return dico"
      ],
      "execution_count": 0,
      "outputs": []
    },
    {
      "cell_type": "markdown",
      "metadata": {
        "id": "EX24Wq89iMFG",
        "colab_type": "text"
      },
      "source": [
        "# ![CCDR Regions](https://upload.wikimedia.org/wikipedia/commons/thumb/c/c7/Area_atua%C3%A7%C3%A3o_CCDR.png/800px-Area_atua%C3%A7%C3%A3o_CCDR.png)"
      ]
    },
    {
      "cell_type": "code",
      "metadata": {
        "id": "wjk2Zyh6S8WR",
        "colab_type": "code",
        "colab": {}
      },
      "source": [
        "def getIPMAData(dico):\n",
        "  dictURL = {1: ['temperature-min','mtnmn'], 2: ['temperature-max', 'mtxmx']} \n",
        "  today = date.today()\n",
        "  for d in range(len(dico)):\n",
        "      print(\"_______________\\n\" + str(dico[d][0]).upper() + \"\\n_______________\")\n",
        "      for i in dictURL:\n",
        "          #print(dictURL[i])\n",
        "          url = 'https://api.ipma.pt/open-data/observation/climate/' + dictURL[i][0] + '/' + dico[d][0] + '/' + dictURL[i][1] + '-' + dico[d][1] + '-' + dico[d][0] + '.csv'\n",
        "          print('\\n' + str(dictURL[i][0]) + '\\n' + url) \n",
        "          folder = '/content/drive/My Drive/Colab Notebooks/AII Project'\n",
        "          cityCSV = folder + '/' + str(dico[d][0]) + '_' + dictURL[i][0] + '.csv' \n",
        "          cityCSV_data = folder + '/Daily Data/' + str(today) + '_' + str(dico[d][0]) + '_' + dictURL[i][0] + '.csv' \n",
        "          print(cityCSV)\n",
        "          with requests.Session() as s:\n",
        "              download = s.get(url)\n",
        "              print(\"Request Status:\", download.status_code)\n",
        "              decoded_content = download.content.decode('utf-8')\n",
        "  #            #print(decoded_content)\n",
        "              cr = csv.reader(decoded_content.splitlines(), delimiter=',')\n",
        "              my_list = list(cr)\n",
        "              lastDay = my_list[-1][0]\n",
        "              if path.exists(cityCSV):\n",
        "                print(\"Original file already exists\")\n",
        "                print(\"Creating validation file for \", str(today))\n",
        "                with open(cityCSV_data, mode = 'w', newline='') as result_file:\n",
        "                  wrD = csv.writer(result_file, dialect='excel', delimiter=',', quoting=csv.QUOTE_NONE, quotechar='', escapechar=' ')\n",
        "                  wrD.writerows(my_list)\n",
        "              else:\n",
        "                with open(cityCSV, mode = 'w', newline='') as result_file:\n",
        "                  wr = csv.writer(result_file, dialect='excel', delimiter=',', quoting=csv.QUOTE_NONE, quotechar='', escapechar=' ')\n",
        "                  wr.writerows(my_list)\n",
        "              countDiffDates(lastDay, cityCSV, my_list)"
      ],
      "execution_count": 0,
      "outputs": []
    },
    {
      "cell_type": "code",
      "metadata": {
        "id": "f8FGGSUHkK_v",
        "colab_type": "code",
        "colab": {}
      },
      "source": [
        "dico = list()\n",
        "dico = getDico()"
      ],
      "execution_count": 0,
      "outputs": []
    },
    {
      "cell_type": "code",
      "metadata": {
        "id": "9ewkHy-_kTup",
        "colab_type": "code",
        "colab": {
          "base_uri": "https://localhost:8080/",
          "height": 1000
        },
        "outputId": "fad22bb0-37b5-43c5-e4ca-ebc5cde852f7"
      },
      "source": [
        "getIPMAData(dico)"
      ],
      "execution_count": 41,
      "outputs": [
        {
          "output_type": "stream",
          "text": [
            "_______________\n",
            "COIMBRA\n",
            "_______________\n",
            "\n",
            "temperature-min\n",
            "https://api.ipma.pt/open-data/observation/climate/temperature-min/coimbra/mtnmn-0603-coimbra.csv\n",
            "/content/drive/My Drive/Colab Notebooks/AII Project/coimbra_temperature-min.csv\n",
            "Request Status: 200\n",
            "Original file already exists\n",
            "Creating validation file for  2020-04-28\n",
            "Days Missing: 0\n",
            "Data is Updated\n",
            "\n",
            "temperature-max\n",
            "https://api.ipma.pt/open-data/observation/climate/temperature-max/coimbra/mtxmx-0603-coimbra.csv\n",
            "/content/drive/My Drive/Colab Notebooks/AII Project/coimbra_temperature-max.csv\n",
            "Request Status: 200\n",
            "Original file already exists\n",
            "Creating validation file for  2020-04-28\n",
            "Days Missing: 0\n",
            "Data is Updated\n",
            "_______________\n",
            "FARO\n",
            "_______________\n",
            "\n",
            "temperature-min\n",
            "https://api.ipma.pt/open-data/observation/climate/temperature-min/faro/mtnmn-0805-faro.csv\n",
            "/content/drive/My Drive/Colab Notebooks/AII Project/faro_temperature-min.csv\n",
            "Request Status: 200\n",
            "Original file already exists\n",
            "Creating validation file for  2020-04-28\n",
            "Days Missing: 0\n",
            "Data is Updated\n",
            "\n",
            "temperature-max\n",
            "https://api.ipma.pt/open-data/observation/climate/temperature-max/faro/mtxmx-0805-faro.csv\n",
            "/content/drive/My Drive/Colab Notebooks/AII Project/faro_temperature-max.csv\n",
            "Request Status: 200\n",
            "Original file already exists\n",
            "Creating validation file for  2020-04-28\n",
            "Days Missing: 0\n",
            "Data is Updated\n",
            "_______________\n",
            "LISBOA\n",
            "_______________\n",
            "\n",
            "temperature-min\n",
            "https://api.ipma.pt/open-data/observation/climate/temperature-min/lisboa/mtnmn-1106-lisboa.csv\n",
            "/content/drive/My Drive/Colab Notebooks/AII Project/lisboa_temperature-min.csv\n",
            "Request Status: 200\n",
            "Original file already exists\n",
            "Creating validation file for  2020-04-28\n",
            "Days Missing: 0\n",
            "Data is Updated\n",
            "\n",
            "temperature-max\n",
            "https://api.ipma.pt/open-data/observation/climate/temperature-max/lisboa/mtxmx-1106-lisboa.csv\n",
            "/content/drive/My Drive/Colab Notebooks/AII Project/lisboa_temperature-max.csv\n",
            "Request Status: 200\n",
            "Original file already exists\n",
            "Creating validation file for  2020-04-28\n",
            "Days Missing: 0\n",
            "Data is Updated\n",
            "_______________\n",
            "PORTO\n",
            "_______________\n",
            "\n",
            "temperature-min\n",
            "https://api.ipma.pt/open-data/observation/climate/temperature-min/porto/mtnmn-1312-porto.csv\n",
            "/content/drive/My Drive/Colab Notebooks/AII Project/porto_temperature-min.csv\n",
            "Request Status: 200\n",
            "Original file already exists\n",
            "Creating validation file for  2020-04-28\n",
            "Days Missing: 0\n",
            "Data is Updated\n",
            "\n",
            "temperature-max\n",
            "https://api.ipma.pt/open-data/observation/climate/temperature-max/porto/mtxmx-1312-porto.csv\n",
            "/content/drive/My Drive/Colab Notebooks/AII Project/porto_temperature-max.csv\n",
            "Request Status: 200\n",
            "Original file already exists\n",
            "Creating validation file for  2020-04-28\n",
            "Days Missing: 0\n",
            "Data is Updated\n"
          ],
          "name": "stdout"
        }
      ]
    }
  ]
}