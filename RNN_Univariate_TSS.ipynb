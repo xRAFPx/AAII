{
  "nbformat": 4,
  "nbformat_minor": 0,
  "metadata": {
    "colab": {
      "name": "RNN_Univariate_TSS",
      "provenance": [],
      "authorship_tag": "ABX9TyNjdbB80dhsTn87VXGt1MFe",
      "include_colab_link": true
    },
    "kernelspec": {
      "name": "python3",
      "display_name": "Python 3"
    }
  },
  "cells": [
    {
      "cell_type": "markdown",
      "metadata": {
        "id": "view-in-github",
        "colab_type": "text"
      },
      "source": [
        "<a href=\"https://colab.research.google.com/github/xRAFPx/AAII/blob/master/RNN_Univariate_TSS.ipynb\" target=\"_parent\"><img src=\"https://colab.research.google.com/assets/colab-badge.svg\" alt=\"Open In Colab\"/></a>"
      ]
    },
    {
      "cell_type": "code",
      "metadata": {
        "id": "xucTvcjWOqzZ",
        "colab_type": "code",
        "colab": {
          "base_uri": "https://localhost:8080/",
          "height": 34
        },
        "outputId": "7c55e9b7-1f0c-4227-c29f-c76c4e70b920"
      },
      "source": [
        "from google.colab import drive\n",
        "drive.mount('/content/drive')"
      ],
      "execution_count": null,
      "outputs": [
        {
          "output_type": "stream",
          "text": [
            "Drive already mounted at /content/drive; to attempt to forcibly remount, call drive.mount(\"/content/drive\", force_remount=True).\n"
          ],
          "name": "stdout"
        }
      ]
    },
    {
      "cell_type": "code",
      "metadata": {
        "id": "HDlC4YO2S_fI",
        "colab_type": "code",
        "colab": {}
      },
      "source": [
        "import requests\n",
        "import json\n",
        "import csv\n",
        "import string\n",
        "import io\n",
        "import pandas as pd\n",
        "from tempfile import NamedTemporaryFile\n",
        "import shutil\n",
        "from datetime import date\n",
        "import datetime\n",
        "import os.path\n",
        "from os import path\n",
        "import re\n",
        "import xlrd\n",
        "import math\n",
        "import tensorflow as tf\n",
        "import numpy as np\n",
        "from sklearn.preprocessing import MinMaxScaler\n",
        "import matplotlib.pyplot as plt\n",
        "from getpass import getpass\n",
        "from functools import reduce\n",
        "# from livelossplot import PlotLossesKeras, PlotLossesKerasTF\n",
        "from keras.callbacks import ModelCheckpoint\n",
        "# from livelossplot.tf_keras import PlotLossesCallback\n",
        "from sklearn.model_selection import TimeSeriesSplit, GridSearchCV, RandomizedSearchCV\n",
        "from sklearn.neural_network import MLPRegressor\n",
        "from sklearn.metrics import mean_squared_error\n",
        "from sklearn import svm\n",
        "from matplotlib import pyplot\n",
        "from pandas.plotting import autocorrelation_plot\n",
        "from tensorflow.keras.wrappers.scikit_learn import KerasClassifier"
      ],
      "execution_count": null,
      "outputs": []
    },
    {
      "cell_type": "code",
      "metadata": {
        "colab_type": "code",
        "id": "MuNKGnkv71aM",
        "colab": {}
      },
      "source": [
        "folder = '/content/drive/My Drive/Colab Notebooks/AII Project'\n",
        "gitFolder = '/content/AAII/Data'\n",
        "\n",
        "#Temperatura\n",
        "norte_weather_filepath = folder + '/weather_norte.csv'\n",
        "centro_weather_filepath = folder + '/weather_centro.csv'\n",
        "lvt_weather_filepath = folder + '/weather_lvt.csv'\n",
        "algarve_weather_filepath = folder + '/weather_algarve.csv'\n",
        "alentejo_weather_filepath = folder + '/weather_alentejo.csv'\n",
        "\n",
        "#Óbitos COVID-19\n",
        "acores_death_filepath = folder + '/acores_death.csv'\n",
        "madeira_death_filepath = folder + '/madeira_death.csv'\n",
        "alentejo_death_filepath = folder + '/alentejo_death.csv'\n",
        "algarve_death_filepath = folder + '/algarve_death.csv'\n",
        "lvt_death_filepath = folder + '/lvt_death.csv'\n",
        "centro_death_filepath = folder + '/centro_death.csv'\n",
        "norte_death_filepath = folder + '/norte_death.csv'\n",
        "\n",
        "#Casos Confirmados COVID-19\n",
        "acores_filepath = folder + '/acores.csv'\n",
        "madeira_filepath = folder + '/madeira.csv'\n",
        "alentejo_filepath = folder + '/alentejo.csv'\n",
        "algarve_filepath = folder + '/algarve.csv'\n",
        "lvt_filepath = folder + '/lvt.csv'\n",
        "centro_filepath = folder + '/centro.csv'\n",
        "norte_filepath = folder + '/norte.csv'\n"
      ],
      "execution_count": null,
      "outputs": []
    },
    {
      "cell_type": "code",
      "metadata": {
        "id": "TLzhzYEImP21",
        "colab_type": "code",
        "colab": {
          "base_uri": "https://localhost:8080/",
          "height": 34
        },
        "outputId": "bfb7a76d-e6e3-4cf3-f976-3773f9205957"
      },
      "source": [
        "if path.exists(folder):\n",
        "  print(\"No directory error\")\n",
        "else:\n",
        "  #Create a new directory (a folder) in your Drive\n",
        "  os.mkdir(folder)\n",
        "  print(\"Directory created\")\n"
      ],
      "execution_count": null,
      "outputs": [
        {
          "output_type": "stream",
          "text": [
            "No directory error\n"
          ],
          "name": "stdout"
        }
      ]
    },
    {
      "cell_type": "code",
      "metadata": {
        "colab_type": "code",
        "id": "n4-Rbb9THFvx",
        "colab": {}
      },
      "source": [
        "def read_dataset(url):\n",
        "  df = pd.read_csv(url, parse_dates=[0], index_col=[0], infer_datetime_format=True)\n",
        "  return df.fillna(value=0)"
      ],
      "execution_count": null,
      "outputs": []
    },
    {
      "cell_type": "code",
      "metadata": {
        "id": "OGTQvwP3uhGd",
        "colab_type": "code",
        "colab": {}
      },
      "source": [
        "df_norte = read_dataset(norte_filepath)\n",
        "# pd.set_option('display.max_rows', df_norte.shape[0]+1)\n",
        "# print(df_norte)\n",
        "df_centro = read_dataset(centro_filepath)\n",
        "df_lvt = read_dataset(lvt_filepath)\n",
        "df_alentejo = read_dataset(alentejo_filepath)\n",
        "df_algarve = read_dataset(algarve_filepath)\n",
        "df_madeira = read_dataset(madeira_filepath)\n",
        "df_acores = read_dataset(acores_filepath)"
      ],
      "execution_count": null,
      "outputs": []
    },
    {
      "cell_type": "code",
      "metadata": {
        "id": "dayjX2z8eNub",
        "colab_type": "code",
        "colab": {
          "base_uri": "https://localhost:8080/",
          "height": 34
        },
        "outputId": "37d6a100-d5d1-4517-d31c-10cdf41f1f49"
      },
      "source": [
        "df_norte.shape"
      ],
      "execution_count": null,
      "outputs": [
        {
          "output_type": "execute_result",
          "data": {
            "text/plain": [
              "(116, 1)"
            ]
          },
          "metadata": {
            "tags": []
          },
          "execution_count": 100
        }
      ]
    },
    {
      "cell_type": "code",
      "metadata": {
        "id": "QtLc3dpawfTA",
        "colab_type": "code",
        "colab": {}
      },
      "source": [
        "df_acores_death = read_dataset(norte_filepath)\n",
        "df_madeira_death = read_dataset(madeira_death_filepath)\n",
        "df_alentejo_death = read_dataset(alentejo_death_filepath)\n",
        "df_algarve_death = read_dataset(algarve_death_filepath)\n",
        "df_lvt_death = read_dataset(lvt_death_filepath)\n",
        "df_centro_death = read_dataset(centro_death_filepath)\n",
        "df_norte_death = read_dataset(norte_death_filepath)"
      ],
      "execution_count": null,
      "outputs": []
    },
    {
      "cell_type": "code",
      "metadata": {
        "id": "zgL9K-87xjbH",
        "colab_type": "code",
        "colab": {}
      },
      "source": [
        "df_norte_weather = read_dataset(norte_weather_filepath)\n",
        "df_centro_weather = read_dataset(centro_weather_filepath)\n",
        "df_lvt_weather = read_dataset(lvt_weather_filepath)\n",
        "df_algarve_weather = read_dataset(algarve_weather_filepath)\n",
        "df_alentejo_weather = read_dataset(alentejo_weather_filepath)"
      ],
      "execution_count": null,
      "outputs": []
    },
    {
      "cell_type": "code",
      "metadata": {
        "id": "fjQe9WBzKK_R",
        "colab_type": "code",
        "colab": {}
      },
      "source": [
        "df_norte[df_norte<0]=0"
      ],
      "execution_count": null,
      "outputs": []
    },
    {
      "cell_type": "code",
      "metadata": {
        "id": "wPzPXmFlKtYQ",
        "colab_type": "code",
        "colab": {}
      },
      "source": [
        "df_centro[df_centro<0]=0"
      ],
      "execution_count": null,
      "outputs": []
    },
    {
      "cell_type": "code",
      "metadata": {
        "id": "tH72iIEHLNqT",
        "colab_type": "code",
        "colab": {}
      },
      "source": [
        "df_lvt[df_lvt<0]=0\n",
        "df_alentejo[df_alentejo<0]=0\n",
        "df_algarve[df_algarve<0]=0\n",
        "df_acores[df_acores<0]=0\n",
        "df_madeira[df_madeira<0]=0"
      ],
      "execution_count": null,
      "outputs": []
    },
    {
      "cell_type": "code",
      "metadata": {
        "id": "6T6FspnsbwuY",
        "colab_type": "code",
        "colab": {}
      },
      "source": [
        "def data_normalization(df):\n",
        "  scaler = MinMaxScaler()\n",
        "  df = scaler.fit_transform(df)\n",
        "  return scaler, df"
      ],
      "execution_count": null,
      "outputs": []
    },
    {
      "cell_type": "code",
      "metadata": {
        "id": "i79GJC8R4WaQ",
        "colab_type": "code",
        "colab": {}
      },
      "source": [
        "scaler_norte, df_norte = data_normalization(df_norte)\n",
        "scaler_centro, df_centro = data_normalization(df_centro)\n",
        "scaler_lvt, df_lvt = data_normalization(df_lvt)\n",
        "scaler_alentejo, df_alentejo = data_normalization(df_alentejo)\n",
        "scaler_algarve, df_algarve = data_normalization(df_algarve)\n",
        "scaler_madeira, df_madeira = data_normalization(df_madeira)\n",
        "scaler_acores, df_acores = data_normalization(df_acores)"
      ],
      "execution_count": null,
      "outputs": []
    },
    {
      "cell_type": "code",
      "metadata": {
        "id": "d3fyTw8xeYop",
        "colab_type": "code",
        "colab": {
          "base_uri": "https://localhost:8080/",
          "height": 34
        },
        "outputId": "e58554ee-251c-43e1-93fe-38d6a0b3f959"
      },
      "source": [
        "df_norte.shape"
      ],
      "execution_count": null,
      "outputs": [
        {
          "output_type": "execute_result",
          "data": {
            "text/plain": [
              "(116, 1)"
            ]
          },
          "metadata": {
            "tags": []
          },
          "execution_count": 108
        }
      ]
    },
    {
      "cell_type": "code",
      "metadata": {
        "id": "35HWT9fZxE7Z",
        "colab_type": "code",
        "colab": {}
      },
      "source": [
        "scaler_norte_death, df_norte_death = data_normalization(df_norte_death)\n",
        "scaler_centro_death, df_centro_death = data_normalization(df_centro_death)\n",
        "scaler_lvt_death, df_lvt_death = data_normalization(df_lvt_death)\n",
        "scaler_alentejo_death, df_alentejo_death = data_normalization(df_alentejo_death)\n",
        "scaler_algarve_death, df_algarve_death = data_normalization(df_algarve_death)\n",
        "scaler_madeira_death, df_madeira_death = data_normalization(df_madeira_death)\n",
        "scaler_acores_death, df_acores_death = data_normalization(df_acores_death)"
      ],
      "execution_count": null,
      "outputs": []
    },
    {
      "cell_type": "code",
      "metadata": {
        "id": "Y6U8nVDFx4OC",
        "colab_type": "code",
        "colab": {}
      },
      "source": [
        "scaler_norte_weather, df_norte_weather = data_normalization(df_norte_weather)\n",
        "scaler_centro_weather, df_centro_weather = data_normalization(df_centro_weather)\n",
        "scaler_lvt_weather, df_lvt_weather = data_normalization(df_lvt_weather)\n",
        "scaler_alentejo_weather, df_alentejo_weather = data_normalization(df_alentejo_weather)\n",
        "scaler_algarve_weather, df_algarve_weather = data_normalization(df_algarve_weather)"
      ],
      "execution_count": null,
      "outputs": []
    },
    {
      "cell_type": "code",
      "metadata": {
        "id": "XpRR7rSEjRZf",
        "colab_type": "code",
        "colab": {}
      },
      "source": [
        "def build_supervised(df, timesteps):\n",
        "\tdata = df\n",
        "\tX, y = list(), list()\n",
        "\tdataset_size = len(data)\n",
        "\tfor curr_pos in range(dataset_size):\n",
        "\t\tinput_index =  curr_pos + timesteps\n",
        "\t\tlabel_index = input_index + 1\n",
        "\t\tif label_index <= dataset_size:\n",
        "\t\t\tX.append(data[curr_pos:input_index, :])\n",
        "\t\t\ty.append(data[input_index:label_index, 0])\n",
        "\treturn np.array(X).astype('float32'), np.array(y).astype('float32')"
      ],
      "execution_count": null,
      "outputs": []
    },
    {
      "cell_type": "code",
      "metadata": {
        "id": "NnX8MAoMyuZ0",
        "colab_type": "code",
        "colab": {}
      },
      "source": [
        "timesteps = 4"
      ],
      "execution_count": null,
      "outputs": []
    },
    {
      "cell_type": "code",
      "metadata": {
        "colab_type": "code",
        "id": "o2Q2cCbSq0wI",
        "colab": {}
      },
      "source": [
        "X_norte, y_norte = build_supervised(df_norte, timesteps)\n",
        "X_centro, y_centro = build_supervised(df_centro, timesteps)\n",
        "X_lvt, y_lvt = build_supervised(df_lvt, timesteps)\n",
        "X_alentejo, y_alentejo = build_supervised(df_alentejo, timesteps)\n",
        "X_algarve, y_algarve = build_supervised(df_algarve, timesteps)\n",
        "X_acores, y_acores = build_supervised(df_acores, timesteps)\n",
        "X_madeira, y_madeira = build_supervised(df_madeira, timesteps)"
      ],
      "execution_count": null,
      "outputs": []
    },
    {
      "cell_type": "code",
      "metadata": {
        "id": "rK4v-IBobxx_",
        "colab_type": "code",
        "colab": {}
      },
      "source": [
        "valid_test_percent = 0.1\n",
        "df_region_valid_test_size = int(np.round(valid_test_percent * X_norte.shape[0]))\n",
        "df_region_train_size = X_norte.shape[0] - df_region_valid_test_size*2"
      ],
      "execution_count": null,
      "outputs": []
    },
    {
      "cell_type": "code",
      "metadata": {
        "id": "pGGH18L5b3sp",
        "colab_type": "code",
        "colab": {
          "base_uri": "https://localhost:8080/",
          "height": 34
        },
        "outputId": "62472ed9-dcd6-47dd-af3f-2b2c004a48e5"
      },
      "source": [
        "df_region_valid_test_size"
      ],
      "execution_count": null,
      "outputs": [
        {
          "output_type": "execute_result",
          "data": {
            "text/plain": [
              "11"
            ]
          },
          "metadata": {
            "tags": []
          },
          "execution_count": 115
        }
      ]
    },
    {
      "cell_type": "code",
      "metadata": {
        "id": "dmX15-00b5S2",
        "colab_type": "code",
        "colab": {
          "base_uri": "https://localhost:8080/",
          "height": 34
        },
        "outputId": "a2e69c90-c3f7-4812-b852-c47da7aff812"
      },
      "source": [
        "df_region_train_size"
      ],
      "execution_count": null,
      "outputs": [
        {
          "output_type": "execute_result",
          "data": {
            "text/plain": [
              "90"
            ]
          },
          "metadata": {
            "tags": []
          },
          "execution_count": 116
        }
      ]
    },
    {
      "cell_type": "code",
      "metadata": {
        "id": "lrZKcclKzK0b",
        "colab_type": "code",
        "colab": {}
      },
      "source": [
        "X_train_norte = X_norte[:df_region_train_size]\n",
        "y_train_norte = y_norte[:df_region_train_size]\n",
        "\n",
        "X_train_centro = X_centro[:df_region_train_size]\n",
        "y_train_centro = y_centro[:df_region_train_size]\n",
        "\n",
        "X_train_lvt = X_lvt[:df_region_train_size]\n",
        "y_train_lvt = y_lvt[:df_region_train_size]\n",
        "\n",
        "X_train_algarve = X_algarve[:df_region_train_size]\n",
        "y_train_algarve = y_algarve[:df_region_train_size]\n",
        "\n",
        "X_train_alentejo = X_alentejo[:df_region_train_size]\n",
        "y_train_alentejo = y_alentejo[:df_region_train_size]\n",
        "\n",
        "X_train_madeira = X_madeira[:df_region_train_size]\n",
        "y_train_madeira = y_madeira[:df_region_train_size]\n",
        "\n",
        "X_train_acores = X_acores[:df_region_train_size]\n",
        "y_train_acores = y_acores[:df_region_train_size]"
      ],
      "execution_count": null,
      "outputs": []
    },
    {
      "cell_type": "code",
      "metadata": {
        "id": "ZHk0f7Zc03Na",
        "colab_type": "code",
        "colab": {}
      },
      "source": [
        "X_test_norte = X_norte[df_region_train_size + df_region_valid_test_size :]\n",
        "y_test_norte = y_norte[df_region_train_size + df_region_valid_test_size :]\n",
        "\n",
        "X_test_centro = X_centro[df_region_train_size + df_region_valid_test_size :]\n",
        "y_test_centro = y_centro[df_region_train_size + df_region_valid_test_size :]\n",
        "\n",
        "X_test_lvt = X_lvt[df_region_train_size + df_region_valid_test_size :]\n",
        "y_test_lvt = y_lvt[df_region_train_size + df_region_valid_test_size :]\n",
        "\n",
        "X_test_algarve = X_algarve[df_region_train_size + df_region_valid_test_size :]\n",
        "y_test_algarve = y_algarve[df_region_train_size + df_region_valid_test_size :]\n",
        "\n",
        "X_test_alentejo = X_alentejo[df_region_train_size + df_region_valid_test_size :]\n",
        "y_test_alentejo = y_alentejo[df_region_train_size + df_region_valid_test_size :]\n",
        "\n",
        "X_test_madeira = X_madeira[df_region_train_size + df_region_valid_test_size :]\n",
        "y_test_madeira = y_madeira[df_region_train_size + df_region_valid_test_size :]\n",
        "\n",
        "X_test_acores = X_acores[df_region_train_size + df_region_valid_test_size :]\n",
        "y_test_acores = y_acores[df_region_train_size + df_region_valid_test_size :]"
      ],
      "execution_count": null,
      "outputs": []
    },
    {
      "cell_type": "code",
      "metadata": {
        "id": "VRqWrFwo3_SG",
        "colab_type": "code",
        "colab": {}
      },
      "source": [
        "X_val_norte = X_norte[df_region_train_size:df_region_train_size + df_region_valid_test_size]\n",
        "y_val_norte = y_norte[df_region_train_size:df_region_train_size + df_region_valid_test_size]\n",
        "\n",
        "X_val_centro = X_centro[df_region_train_size:df_region_train_size + df_region_valid_test_size]\n",
        "y_val_centro = y_centro[df_region_train_size:df_region_train_size + df_region_valid_test_size]\n",
        "\n",
        "X_val_lvt = X_lvt[df_region_train_size:df_region_train_size + df_region_valid_test_size]\n",
        "y_val_lvt = y_lvt[df_region_train_size:df_region_train_size + df_region_valid_test_size]\n",
        "\n",
        "X_val_algarve = X_algarve[df_region_train_size:df_region_train_size + df_region_valid_test_size]\n",
        "y_val_algarve = y_algarve[df_region_train_size:df_region_train_size + df_region_valid_test_size]\n",
        "\n",
        "X_val_alentejo = X_alentejo[df_region_train_size:df_region_train_size + df_region_valid_test_size]\n",
        "y_val_alentejo = y_alentejo[df_region_train_size:df_region_train_size + df_region_valid_test_size]\n",
        "\n",
        "X_val_madeira = X_madeira[df_region_train_size:df_region_train_size + df_region_valid_test_size]\n",
        "y_val_madeira = y_madeira[df_region_train_size:df_region_train_size + df_region_valid_test_size]\n",
        "\n",
        "X_val_acores = X_acores[df_region_train_size:df_region_train_size + df_region_valid_test_size]\n",
        "y_val_acores = y_acores[df_region_train_size:df_region_train_size + df_region_valid_test_size]"
      ],
      "execution_count": null,
      "outputs": []
    },
    {
      "cell_type": "code",
      "metadata": {
        "id": "gz1PabwG4Rsf",
        "colab_type": "code",
        "colab": {}
      },
      "source": [
        "X_train_val_norte = X_norte[:df_region_train_size + df_region_valid_test_size]\n",
        "y_train_val_norte = y_norte[:df_region_train_size + df_region_valid_test_size]\n",
        "\n",
        "X_train_val_centro = X_centro[:df_region_train_size + df_region_valid_test_size]\n",
        "y_train_val_centro = y_centro[:df_region_train_size + df_region_valid_test_size]\n",
        "\n",
        "X_train_val_lvt = X_lvt[:df_region_train_size + df_region_valid_test_size]\n",
        "y_train_val_lvt = y_lvt[:df_region_train_size + df_region_valid_test_size]\n",
        "\n",
        "X_train_val_algarve = X_algarve[:df_region_train_size + df_region_valid_test_size]\n",
        "y_train_val_algarve = y_algarve[:df_region_train_size + df_region_valid_test_size]\n",
        "\n",
        "X_train_val_alentejo = X_alentejo[:df_region_train_size + df_region_valid_test_size]\n",
        "y_train_val_alentejo = y_alentejo[:df_region_train_size + df_region_valid_test_size]\n",
        "\n",
        "X_train_val_madeira = X_madeira[:df_region_train_size + df_region_valid_test_size]\n",
        "y_train_val_madeira = y_madeira[:df_region_train_size + df_region_valid_test_size]\n",
        "\n",
        "X_train_val_acores = X_acores[:df_region_train_size + df_region_valid_test_size]\n",
        "y_train_val_acores = y_acores[:df_region_train_size + df_region_valid_test_size]"
      ],
      "execution_count": null,
      "outputs": []
    },
    {
      "cell_type": "code",
      "metadata": {
        "id": "5DN53ThBhN6A",
        "colab_type": "code",
        "colab": {
          "base_uri": "https://localhost:8080/",
          "height": 34
        },
        "outputId": "751ac526-c528-4774-fcd5-cc6ac89e8366"
      },
      "source": [
        "y_train_acores.shape"
      ],
      "execution_count": null,
      "outputs": [
        {
          "output_type": "execute_result",
          "data": {
            "text/plain": [
              "(90, 1)"
            ]
          },
          "metadata": {
            "tags": []
          },
          "execution_count": 121
        }
      ]
    },
    {
      "cell_type": "code",
      "metadata": {
        "id": "txEcoVRL4xm6",
        "colab_type": "code",
        "colab": {
          "base_uri": "https://localhost:8080/",
          "height": 151
        },
        "outputId": "ec5c1c1d-3ac3-4355-a8c6-53315114ba05"
      },
      "source": [
        "print(X_train_norte.shape)\n",
        "print(y_train_norte.shape)\n",
        "\n",
        "print(X_test_norte.shape)\n",
        "print(y_test_norte.shape)\n",
        "\n",
        "print(X_val_norte.shape)\n",
        "print(y_val_norte.shape)\n",
        "\n",
        "print(X_train_val_norte.shape)\n",
        "print(y_train_val_norte.shape)"
      ],
      "execution_count": null,
      "outputs": [
        {
          "output_type": "stream",
          "text": [
            "(90, 4, 1)\n",
            "(90, 1)\n",
            "(11, 4, 1)\n",
            "(11, 1)\n",
            "(11, 4, 1)\n",
            "(11, 1)\n",
            "(101, 4, 1)\n",
            "(101, 1)\n"
          ],
          "name": "stdout"
        }
      ]
    },
    {
      "cell_type": "code",
      "metadata": {
        "id": "H5C6hO-NSkZ6",
        "colab_type": "code",
        "colab": {}
      },
      "source": [
        "X_train_norte_re = X_train_norte.reshape(X_train_norte.shape[0], X_train_norte.shape[1])\n",
        "y_train_norte_re = y_train_norte.reshape(y_train_norte.shape[0],)\n",
        "\n",
        "X_test_norte_re = X_test_norte.reshape(X_test_norte.shape[0], X_test_norte.shape[1])\n",
        "y_test_norte_re = y_test_norte.reshape(y_test_norte.shape[0],)\n",
        "\n",
        "X_val_norte_re = X_val_norte.reshape(X_val_norte.shape[0], X_val_norte.shape[1])\n",
        "y_val_norte_re = y_val_norte.reshape(y_val_norte.shape[0],)\n",
        "\n",
        "X_train_val_norte_re = X_train_val_norte.reshape(X_train_val_norte.shape[0], X_train_val_norte.shape[1])\n",
        "y_train_val_norte_re = y_train_val_norte.reshape(y_train_val_norte.shape[0],)"
      ],
      "execution_count": null,
      "outputs": []
    },
    {
      "cell_type": "code",
      "metadata": {
        "id": "M2v9cYkTaHY7",
        "colab_type": "code",
        "colab": {
          "base_uri": "https://localhost:8080/",
          "height": 34
        },
        "outputId": "fb07fe03-30ad-46fe-8911-82cae4c08f58"
      },
      "source": [
        "X_train_norte.shape"
      ],
      "execution_count": null,
      "outputs": [
        {
          "output_type": "execute_result",
          "data": {
            "text/plain": [
              "(90, 4, 1)"
            ]
          },
          "metadata": {
            "tags": []
          },
          "execution_count": 124
        }
      ]
    },
    {
      "cell_type": "code",
      "metadata": {
        "id": "yT3uEDRoaKsn",
        "colab_type": "code",
        "colab": {
          "base_uri": "https://localhost:8080/",
          "height": 34
        },
        "outputId": "06c82680-17ea-40cf-a10a-2ed96c511241"
      },
      "source": [
        "X_train_norte_re.shape"
      ],
      "execution_count": null,
      "outputs": [
        {
          "output_type": "execute_result",
          "data": {
            "text/plain": [
              "(90, 4)"
            ]
          },
          "metadata": {
            "tags": []
          },
          "execution_count": 125
        }
      ]
    },
    {
      "cell_type": "code",
      "metadata": {
        "id": "CDwy4ETPaB0g",
        "colab_type": "code",
        "colab": {}
      },
      "source": [
        "X_train_centro_re = X_train_centro.reshape(X_train_centro.shape[0], X_train_centro.shape[1])\n",
        "y_train_centro_re = y_train_centro.reshape(y_train_centro.shape[0],)\n",
        "\n",
        "X_test_centro_re = X_test_centro.reshape(X_test_centro.shape[0], X_test_centro.shape[1])\n",
        "y_test_centro_re = y_test_centro.reshape(y_test_centro.shape[0],)\n",
        "\n",
        "X_val_centro_re = X_val_centro.reshape(X_val_centro.shape[0], X_val_centro.shape[1])\n",
        "y_val_centro_re = y_val_centro.reshape(y_val_centro.shape[0],)\n",
        "\n",
        "X_train_val_centro_re = X_train_val_centro.reshape(X_train_val_centro.shape[0], X_train_val_centro.shape[1])\n",
        "y_train_val_centro_re = y_train_val_centro.reshape(y_train_val_centro.shape[0],)"
      ],
      "execution_count": null,
      "outputs": []
    },
    {
      "cell_type": "code",
      "metadata": {
        "id": "DKuCZaqSgLeG",
        "colab_type": "code",
        "colab": {}
      },
      "source": [
        "X_train_lvt_re = X_train_lvt.reshape(X_train_lvt.shape[0], X_train_lvt.shape[1])\n",
        "y_train_lvt_re = y_train_lvt.reshape(y_train_lvt.shape[0],)\n",
        "\n",
        "X_test_lvt_re = X_test_lvt.reshape(X_test_lvt.shape[0], X_test_lvt.shape[1])\n",
        "y_test_lvt_re = y_test_lvt.reshape(y_test_lvt.shape[0],)\n",
        "\n",
        "X_val_lvt_re = X_val_lvt.reshape(X_val_lvt.shape[0], X_val_lvt.shape[1])\n",
        "y_val_lvt_re = y_val_lvt.reshape(y_val_lvt.shape[0],)\n",
        "\n",
        "X_train_val_lvt_re = X_train_val_lvt.reshape(X_train_val_lvt.shape[0], X_train_val_lvt.shape[1])\n",
        "y_train_val_lvt_re = y_train_val_lvt.reshape(y_train_val_lvt.shape[0],)"
      ],
      "execution_count": null,
      "outputs": []
    },
    {
      "cell_type": "code",
      "metadata": {
        "id": "Uy3nrHuRgY8U",
        "colab_type": "code",
        "colab": {}
      },
      "source": [
        "X_train_algarve_re = X_train_algarve.reshape(X_train_algarve.shape[0], X_train_algarve.shape[1])\n",
        "y_train_algarve_re = y_train_algarve.reshape(y_train_algarve.shape[0],)\n",
        "\n",
        "X_test_algarve_re = X_test_algarve.reshape(X_test_algarve.shape[0], X_test_algarve.shape[1])\n",
        "y_test_algarve_re = y_test_algarve.reshape(y_test_algarve.shape[0],)\n",
        "\n",
        "X_val_algarve_re = X_val_algarve.reshape(X_val_algarve.shape[0], X_val_algarve.shape[1])\n",
        "y_val_algarve_re = y_val_algarve.reshape(y_val_algarve.shape[0],)\n",
        "\n",
        "X_train_val_algarve_re = X_train_val_algarve.reshape(X_train_val_algarve.shape[0], X_train_val_algarve.shape[1])\n",
        "y_train_val_algarve_re = y_train_val_algarve.reshape(y_train_val_algarve.shape[0],)"
      ],
      "execution_count": null,
      "outputs": []
    },
    {
      "cell_type": "code",
      "metadata": {
        "id": "afaVrGqUgcOi",
        "colab_type": "code",
        "colab": {}
      },
      "source": [
        "X_train_acores_re = X_train_acores.reshape(X_train_acores.shape[0], X_train_acores.shape[1])\n",
        "y_train_acores_re = y_train_acores.reshape(y_train_acores.shape[0],)\n",
        "\n",
        "X_test_acores_re = X_test_acores.reshape(X_test_acores.shape[0], X_test_acores.shape[1])\n",
        "y_test_acores_re = y_test_acores.reshape(y_test_acores.shape[0],)\n",
        "\n",
        "X_val_acores_re = X_val_acores.reshape(X_val_acores.shape[0], X_val_acores.shape[1])\n",
        "y_val_acores_re = y_val_acores.reshape(y_val_acores.shape[0],)\n",
        "\n",
        "X_train_val_acores_re = X_train_val_acores.reshape(X_train_val_acores.shape[0], X_train_val_acores.shape[1])\n",
        "y_train_val_acores_re = y_train_val_acores.reshape(y_train_val_acores.shape[0],)"
      ],
      "execution_count": null,
      "outputs": []
    },
    {
      "cell_type": "code",
      "metadata": {
        "id": "7ds2gP7Zgcts",
        "colab_type": "code",
        "colab": {}
      },
      "source": [
        "X_train_alentejo_re = X_train_alentejo.reshape(X_train_alentejo.shape[0], X_train_alentejo.shape[1])\n",
        "y_train_alentejo_re = y_train_alentejo.reshape(y_train_alentejo.shape[0],)\n",
        "\n",
        "X_test_alentejo_re = X_test_alentejo.reshape(X_test_alentejo.shape[0], X_test_alentejo.shape[1])\n",
        "y_test_alentejo_re = y_test_alentejo.reshape(y_test_alentejo.shape[0],)\n",
        "\n",
        "X_val_alentejo_re = X_val_alentejo.reshape(X_val_alentejo.shape[0], X_val_alentejo.shape[1])\n",
        "y_val_alentejo_re = y_val_alentejo.reshape(y_val_alentejo.shape[0],)\n",
        "\n",
        "X_train_val_alentejo_re = X_train_val_alentejo.reshape(X_train_val_alentejo.shape[0], X_train_val_alentejo.shape[1])\n",
        "y_train_val_alentejo_re = y_train_val_alentejo.reshape(y_train_val_alentejo.shape[0],)"
      ],
      "execution_count": null,
      "outputs": []
    },
    {
      "cell_type": "code",
      "metadata": {
        "id": "GldsY5k1gdJV",
        "colab_type": "code",
        "colab": {}
      },
      "source": [
        "X_train_madeira_re = X_train_madeira.reshape(X_train_madeira.shape[0], X_train_madeira.shape[1])\n",
        "y_train_madeira_re = y_train_madeira.reshape(y_train_madeira.shape[0],)\n",
        "\n",
        "X_test_madeira_re = X_test_madeira.reshape(X_test_madeira.shape[0], X_test_madeira.shape[1])\n",
        "y_test_madeira_re = y_test_madeira.reshape(y_test_madeira.shape[0],)\n",
        "\n",
        "X_val_madeira_re = X_val_madeira.reshape(X_val_madeira.shape[0], X_val_madeira.shape[1])\n",
        "y_val_madeira_re = y_val_madeira.reshape(y_val_madeira.shape[0],)\n",
        "\n",
        "X_train_val_madeira_re = X_train_val_madeira.reshape(X_train_val_madeira.shape[0], X_train_val_madeira.shape[1])\n",
        "y_train_val_madeira_re = y_train_val_madeira.reshape(y_train_val_madeira.shape[0],)"
      ],
      "execution_count": null,
      "outputs": []
    },
    {
      "cell_type": "code",
      "metadata": {
        "id": "q9FB3NeWkKEv",
        "colab_type": "code",
        "colab": {}
      },
      "source": [
        "def rmse(y_true, y_pred):\n",
        "    #RMSE = tf.sqrt(tf.losses.mean_squared_error(y_pred, y_true))\n",
        "    #RMSE = tf.sqrt(tf.reduce_mean(tf.square(tf.subtract(y_pred, y_true))))\n",
        "    return tf.keras.backend.sqrt(tf.keras.backend.mean(tf.keras.backend.square(y_pred - y_true)))"
      ],
      "execution_count": null,
      "outputs": []
    },
    {
      "cell_type": "code",
      "metadata": {
        "id": "XcZ7XlpHHKh1",
        "colab_type": "code",
        "colab": {}
      },
      "source": [
        "def RNN_Model(model_type, layers_size, num_layers, dropout_rate, timesteps, features, optimizer, learn_rate):\n",
        "  model = tf.keras.models.Sequential() \n",
        "  for i in range(num_layers):\n",
        "    if model_type == 'RNN':\n",
        "      if i == 0 and num_layers > 1:\n",
        "        model.add(tf.keras.layers.SimpleRNN(int(layers_size), return_sequences=True, input_shape=(timesteps, features)))\n",
        "        if dropout_rate > 0: model.add(tf.keras.layers.Dropout(dropout_rate))  \n",
        "      elif i == 0 and num_layers == 1:\n",
        "        model.add(tf.keras.layers.SimpleRNN(int(layers_size), input_shape=(timesteps, features)))\n",
        "      elif i == num_layers-1:\n",
        "        model.add(tf.keras.layers.SimpleRNN(int(layers_size*i)))\n",
        "      else:\n",
        "        model.add(tf.keras.layers.SimpleRNN(int(layers_size*i), return_sequences=True))\n",
        "        if dropout_rate > 0: model.add(tf.keras.layers.Dropout(dropout_rate))  \n",
        "    elif model_type == 'LSTM':\n",
        "      if i == 0 and num_layers > 1:\n",
        "        model.add(tf.keras.layers.LSTM(int(layers_size), return_sequences=True, input_shape=(timesteps, features)))\n",
        "        if dropout_rate > 0: model.add(tf.keras.layers.Dropout(dropout_rate))  \n",
        "      elif i == 0 and num_layers == 1:\n",
        "        model.add(tf.keras.layers.LSTM(int(layers_size), input_shape=(timesteps, features)))\n",
        "      elif i == num_layers-1:\n",
        "        model.add(tf.keras.layers.LSTM(int(layers_size*i)))\n",
        "      else:\n",
        "        model.add(tf.keras.layers.LSTM(int(layers_size*i), return_sequences=True))\n",
        "        if dropout_rate > 0: model.add(tf.keras.layers.Dropout(dropout_rate))  \n",
        "    else:\n",
        "      if i == 0 and num_layers > 1:\n",
        "        model.add(tf.keras.layers.GRU(int(layers_size), return_sequences=True, input_shape=(timesteps, features)))\n",
        "        if dropout_rate > 0: model.add(tf.keras.layers.Dropout(dropout_rate))  \n",
        "      elif i == 0 and num_layers == 1:\n",
        "        model.add(tf.keras.layers.GRU(int(layers_size), input_shape=(timesteps, features)))\n",
        "      elif i == num_layers-1:\n",
        "        model.add(tf.keras.layers.GRU(int(layers_size*i)))\n",
        "      else:\n",
        "        model.add(tf.keras.layers.GRU(int(layers_size*i), return_sequences=True))\n",
        "        if dropout_rate > 0: model.add(tf.keras.layers.Dropout(dropout_rate))   \n",
        "  model.add(tf.keras.layers.Dense(layers_size, activation=\"linear\"))  \n",
        "  model.add(tf.keras.layers.Dense(1, activation=\"sigmoid\"))  \n",
        "  # model.summary()\n",
        "  if optimizer == 'sgd_momentum':\n",
        "    model.compile(optimizer = tf.keras.optimizers.SGD(lr=learn_rate, momentum=0.7), loss = rmse, metrics = ['mae', 'accuracy', rmse])\n",
        "  elif optimizer == 'adam':\n",
        "    model.compile(optimizer = tf.keras.optimizers.Adam(lr=learn_rate), loss = rmse, metrics = ['mae', 'accuracy', rmse])\n",
        "  else:\n",
        "    model.compile(optimizer = tf.keras.optimizers.RMSprop(lr=learn_rate), loss = rmse, metrics = ['mae', 'accuracy', rmse])\n",
        "  \n",
        "  return model\n"
      ],
      "execution_count": null,
      "outputs": []
    },
    {
      "cell_type": "code",
      "metadata": {
        "id": "a8eoHt3MBHNI",
        "colab_type": "code",
        "colab": {}
      },
      "source": [
        "def save_RNNGridSearch(export_file, best_file, gs_clf, city):\n",
        "\twith open(export_file, 'w') as outfile:\n",
        "\t\tcsvwriter = csv.writer(outfile, delimiter=',')\n",
        "\t\t#Create the header using the parameter names \n",
        "\t\t\n",
        "\t\theader = [\"mean\",\"std\"]\n",
        "\t\tparam_names = [param for param in gs_clf.param_distributions.keys()]\n",
        "\t\theader.extend(param_names)\n",
        "\t\tcsvwriter.writerow(header)\n",
        "\t\n",
        "\t\tmeans = gs_clf.cv_results_['mean_test_score']\n",
        "\t\tstds = gs_clf.cv_results_['std_test_score']\n",
        "\t\tparams = gs_clf.cv_results_['params']\n",
        "\n",
        "\t\tfor mean, stdev, param in zip(means, stds, params):\n",
        "\t\t\trow = [mean,stdev]\n",
        "\t\t\t# Get the list of parameter settings and add to row\n",
        "\t\t\tparams = [str(p) for p in param.values()]\n",
        "\t\t\trow.extend(params)\n",
        "\t\t\t\n",
        "\t\t\tcsvwriter.writerow(row)\n",
        "\t \n",
        "\twrite_header=1 \n",
        "\tif path.exists(best_file):\n",
        "\t\twrite_header = 0\n",
        "\n",
        "\twith open(best_file, 'a') as bestfile:\n",
        "\t\tcsvwriter = csv.writer(bestfile, delimiter=',')\t\n",
        "\t\tif write_header == 0:\n",
        "\t\t\tpass\n",
        "\t\telse:\n",
        "\t\t\theader = [\"city\",\"score\"]\n",
        "\t\t\tparam_names = [param for param in gs_clf.param_distributions.keys()]\n",
        "\t\t\theader.extend(param_names)\n",
        "\t\t\tcsvwriter.writerow(header)\n",
        "\t\n",
        "\t\tmean = gs_clf.best_score_\n",
        "\t\tparams = gs_clf.best_params_\n",
        "\n",
        "\t\trow = [city, mean]\n",
        "\t\t# Get the list of parameter settings and add to row\n",
        "\t\tparams = [str(p) for p in params.values()]\n",
        "\t\trow.extend(params)\n",
        "\t\t\n",
        "\t\tcsvwriter.writerow(row)"
      ],
      "execution_count": null,
      "outputs": []
    },
    {
      "cell_type": "code",
      "metadata": {
        "id": "Qwh0Y04FqgGG",
        "colab_type": "code",
        "colab": {}
      },
      "source": [
        "def grid_search_RNN(X, Y, X_test, y_test, scaler, city):\n",
        "\n",
        "  export_file = model_folder + '/rnn' + city + '.csv'\n",
        "  #call the model used in the cross validation\n",
        "  model = KerasClassifier(build_fn=RNN_Model, verbose=1, timesteps = X.shape[1], features = X.shape[2])\n",
        "\n",
        "  #time series split for nested cross validation\n",
        "  tscv = TimeSeriesSplit(max_train_size=None, n_splits=3)\n",
        "\n",
        "  # define the grid search parameters\n",
        "  opt_pars = {\n",
        "            \"layers_size\":[5, 10, 20, 100, 150],\n",
        "            \"num_layers\": [1, 2, 3, 4, 5],\n",
        "            \"optimizer\": [ \"adam\", \"rmsprop\", \"sgd_momentum\"],\n",
        "            \"learn_rate\": [0.01, 0.001, 0.0001],\n",
        "            \"dropout_rate\": [0.2, 0.5],\n",
        "            \"epochs\": [1000, 10000, 100000],\n",
        "            \"batch_size\": [8, 16, 32],\n",
        "            \"model_type\": [\"RNN\", \"LSTM\", \"GRU\"]\n",
        "            }\n",
        "\n",
        "  grid = RandomizedSearchCV(estimator=model, param_distributions=opt_pars, n_jobs=1, cv=tscv, error_score=0.0, scoring = \"neg_mean_squared_error\", n_iter=5)\n",
        "  grid_result = grid.fit(X, Y, verbose=0)\n",
        "\n",
        "  #Resumo dos resultados\n",
        "  print(\"Best: %f using %s\" % (grid_result.best_score_, grid_result.best_params_))\n",
        "\n",
        "  #Guardar os resultados\n",
        "  save_RNNGridSearch(export_file, best_fileRNN, grid_result, city)\n",
        "\n",
        "  #Previsão\n",
        "  prediction = grid_result.predict(X_test)\n",
        "  print(\"Prediction:\", prediction)\n",
        "  scaled_prediction = prediction.reshape(1, -1)\n",
        "  scaled_prediction = scaler.inverse_transform(scaled_prediction)\n",
        "  scaled_realValue = y_test.reshape(1, -1)\n",
        "  scaled_realValue = scaler.inverse_transform(scaled_realValue)\n",
        "  for p, r in zip(scaled_prediction, scaled_realValue):\n",
        "    for i in range(len(p)):\n",
        "      print(\"Prediction:\", p[i], \"\\tReal Value:\", r[i])\n",
        "  score_test = mean_squared_error(y_test, prediction)\n",
        "  print(\"Test Score:\", score_test)"
      ],
      "execution_count": null,
      "outputs": []
    },
    {
      "cell_type": "code",
      "metadata": {
        "id": "9WnVCoFs744p",
        "colab_type": "code",
        "colab": {}
      },
      "source": [
        "import warnings\n",
        "warnings.filterwarnings(\"ignore\")"
      ],
      "execution_count": null,
      "outputs": []
    },
    {
      "cell_type": "code",
      "metadata": {
        "id": "Sufwy1ZuRJAb",
        "colab_type": "code",
        "colab": {}
      },
      "source": [
        "grid_search_RNN(X_train_val_norte, y_train_val_norte, X_test_norte, y_test_norte, scaler_norte, \"Norte\")"
      ],
      "execution_count": null,
      "outputs": []
    },
    {
      "cell_type": "code",
      "metadata": {
        "id": "-zB2QGhWjz2h",
        "colab_type": "code",
        "colab": {}
      },
      "source": [
        "grid_search_RNN(X_train_val_centro, y_train_val_centro, X_test_centro, y_test_centro, scaler_centro, \"Centro\")"
      ],
      "execution_count": null,
      "outputs": []
    },
    {
      "cell_type": "code",
      "metadata": {
        "id": "FtS5tKAQrk0k",
        "colab_type": "code",
        "colab": {}
      },
      "source": [
        "grid_search_RNN(X_train_val_lvt, y_train_val_lvt, X_test_lvt, y_test_lvt, scaler_lvt, \"LVT\")"
      ],
      "execution_count": null,
      "outputs": []
    },
    {
      "cell_type": "code",
      "metadata": {
        "id": "_aF2Z3Birqno",
        "colab_type": "code",
        "colab": {}
      },
      "source": [
        "grid_search_RNN(X_train_val_alentejo, y_train_val_alentejo, X_test_alentejo, y_test_alentejo, scaler_alentejo, \"Alentejo\")"
      ],
      "execution_count": null,
      "outputs": []
    },
    {
      "cell_type": "code",
      "metadata": {
        "id": "Ysjkr_tyrvyD",
        "colab_type": "code",
        "colab": {}
      },
      "source": [
        "grid_search_RNN(X_train_val_algarve, y_train_val_algarve, X_test_algarve, y_test_algarve, scaler_algarve, \"Algarve\")"
      ],
      "execution_count": null,
      "outputs": []
    }
  ]
}